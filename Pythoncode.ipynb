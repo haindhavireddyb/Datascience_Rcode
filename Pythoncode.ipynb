{
  "nbformat": 4,
  "nbformat_minor": 0,
  "metadata": {
    "colab": {
      "name": "Untitled0.ipynb",
      "provenance": [],
      "collapsed_sections": [],
      "authorship_tag": "ABX9TyOKRgtDn3NPAu0AeQVrSi5C",
      "include_colab_link": true
    },
    "kernelspec": {
      "name": "python3",
      "display_name": "Python 3"
    }
  },
  "cells": [
    {
      "cell_type": "markdown",
      "metadata": {
        "id": "view-in-github",
        "colab_type": "text"
      },
      "source": [
        "<a href=\"https://colab.research.google.com/github/haindhavireddyb/Datascience_Rcode/blob/main/Pythoncode.ipynb\" target=\"_parent\"><img src=\"https://colab.research.google.com/assets/colab-badge.svg\" alt=\"Open In Colab\"/></a>"
      ]
    },
    {
      "cell_type": "code",
      "metadata": {
        "id": "Yxs2XdppVcyx"
      },
      "source": [
        "#import Python libraries\r\n",
        "import pandas as pd\r\n",
        "import numpy as np\r\n",
        "import matplotlib as mpl\r\n",
        "import seaborn as sns"
      ],
      "execution_count": null,
      "outputs": []
    },
    {
      "cell_type": "code",
      "metadata": {
        "id": "60RZB2pdZw97"
      },
      "source": [
        "#Read csv file\r\n",
        "df =pd.read_csv(\"http://rcs.bu.edu/examples/python/data_analysis/Salaries.csv\")"
      ],
      "execution_count": null,
      "outputs": []
    },
    {
      "cell_type": "code",
      "metadata": {
        "id": "ptRikTrnaHfs"
      },
      "source": [
        "#first few records\r\n",
        "df.head()"
      ],
      "execution_count": null,
      "outputs": []
    },
    {
      "cell_type": "code",
      "metadata": {
        "id": "XgZHrXGbageT"
      },
      "source": [
        "df.columns"
      ],
      "execution_count": null,
      "outputs": []
    },
    {
      "cell_type": "code",
      "metadata": {
        "id": "I6nOVZN2aqtb"
      },
      "source": [
        "df.head(10)"
      ],
      "execution_count": null,
      "outputs": []
    },
    {
      "cell_type": "code",
      "metadata": {
        "id": "ULC60TYbbEJv"
      },
      "source": [
        "df[:20]"
      ],
      "execution_count": null,
      "outputs": []
    },
    {
      "cell_type": "code",
      "metadata": {
        "id": "Mvichb1ebi4t"
      },
      "source": [
        "df[10:20]"
      ],
      "execution_count": null,
      "outputs": []
    },
    {
      "cell_type": "code",
      "metadata": {
        "id": "CnjuP1uLbnMd"
      },
      "source": [
        "df.tail(10)"
      ],
      "execution_count": null,
      "outputs": []
    },
    {
      "cell_type": "code",
      "metadata": {
        "id": "qMmeuPnWh2k_"
      },
      "source": [
        "df.shape"
      ],
      "execution_count": null,
      "outputs": []
    },
    {
      "cell_type": "code",
      "metadata": {
        "id": "V2gxWK8Lh4hM"
      },
      "source": [
        "df.axes"
      ],
      "execution_count": null,
      "outputs": []
    },
    {
      "cell_type": "code",
      "metadata": {
        "id": "dBN1ZVPwiDiG"
      },
      "source": [
        "df.ndim"
      ],
      "execution_count": null,
      "outputs": []
    },
    {
      "cell_type": "code",
      "metadata": {
        "id": "e3ebNXbpiIL3"
      },
      "source": [
        "df.values"
      ],
      "execution_count": null,
      "outputs": []
    },
    {
      "cell_type": "code",
      "metadata": {
        "id": "6Xo1Kq4OiOjq"
      },
      "source": [
        "df.size"
      ],
      "execution_count": null,
      "outputs": []
    },
    {
      "cell_type": "code",
      "metadata": {
        "id": "8RjXGyx7ibZf"
      },
      "source": [
        "df.dtypes"
      ],
      "execution_count": null,
      "outputs": []
    },
    {
      "cell_type": "code",
      "metadata": {
        "id": "Yx7hpQu5iuXf"
      },
      "source": [
        "df.count"
      ],
      "execution_count": null,
      "outputs": []
    },
    {
      "cell_type": "code",
      "metadata": {
        "id": "5ZOY_dc2jg_S"
      },
      "source": [
        "df.info"
      ],
      "execution_count": null,
      "outputs": []
    },
    {
      "cell_type": "code",
      "metadata": {
        "id": "6uNhsU5mkcl9"
      },
      "source": [
        "df.shape[0]"
      ],
      "execution_count": null,
      "outputs": []
    },
    {
      "cell_type": "code",
      "metadata": {
        "id": "Gw5MZIYXkwXv"
      },
      "source": [
        "len(df.columns)"
      ],
      "execution_count": null,
      "outputs": []
    },
    {
      "cell_type": "code",
      "metadata": {
        "id": "vm0sSTwulE6P"
      },
      "source": [
        "dir(df)"
      ],
      "execution_count": null,
      "outputs": []
    },
    {
      "cell_type": "code",
      "metadata": {
        "colab": {
          "base_uri": "https://localhost:8080/",
          "height": 282
        },
        "id": "STdFEv-wlbBQ",
        "outputId": "5e7ce4e9-828e-4978-85a6-29ede02d4a1f"
      },
      "source": [
        "df.describe()"
      ],
      "execution_count": 57,
      "outputs": [
        {
          "output_type": "execute_result",
          "data": {
            "text/html": [
              "<div>\n",
              "<style scoped>\n",
              "    .dataframe tbody tr th:only-of-type {\n",
              "        vertical-align: middle;\n",
              "    }\n",
              "\n",
              "    .dataframe tbody tr th {\n",
              "        vertical-align: top;\n",
              "    }\n",
              "\n",
              "    .dataframe thead th {\n",
              "        text-align: right;\n",
              "    }\n",
              "</style>\n",
              "<table border=\"1\" class=\"dataframe\">\n",
              "  <thead>\n",
              "    <tr style=\"text-align: right;\">\n",
              "      <th></th>\n",
              "      <th>phd</th>\n",
              "      <th>service</th>\n",
              "      <th>salary</th>\n",
              "    </tr>\n",
              "  </thead>\n",
              "  <tbody>\n",
              "    <tr>\n",
              "      <th>count</th>\n",
              "      <td>78.000000</td>\n",
              "      <td>78.000000</td>\n",
              "      <td>78.000000</td>\n",
              "    </tr>\n",
              "    <tr>\n",
              "      <th>mean</th>\n",
              "      <td>19.705128</td>\n",
              "      <td>15.051282</td>\n",
              "      <td>108023.782051</td>\n",
              "    </tr>\n",
              "    <tr>\n",
              "      <th>std</th>\n",
              "      <td>12.498425</td>\n",
              "      <td>12.139768</td>\n",
              "      <td>28293.661022</td>\n",
              "    </tr>\n",
              "    <tr>\n",
              "      <th>min</th>\n",
              "      <td>1.000000</td>\n",
              "      <td>0.000000</td>\n",
              "      <td>57800.000000</td>\n",
              "    </tr>\n",
              "    <tr>\n",
              "      <th>25%</th>\n",
              "      <td>10.250000</td>\n",
              "      <td>5.250000</td>\n",
              "      <td>88612.500000</td>\n",
              "    </tr>\n",
              "    <tr>\n",
              "      <th>50%</th>\n",
              "      <td>18.500000</td>\n",
              "      <td>14.500000</td>\n",
              "      <td>104671.000000</td>\n",
              "    </tr>\n",
              "    <tr>\n",
              "      <th>75%</th>\n",
              "      <td>27.750000</td>\n",
              "      <td>20.750000</td>\n",
              "      <td>126774.750000</td>\n",
              "    </tr>\n",
              "    <tr>\n",
              "      <th>max</th>\n",
              "      <td>56.000000</td>\n",
              "      <td>51.000000</td>\n",
              "      <td>186960.000000</td>\n",
              "    </tr>\n",
              "  </tbody>\n",
              "</table>\n",
              "</div>"
            ],
            "text/plain": [
              "             phd    service         salary\n",
              "count  78.000000  78.000000      78.000000\n",
              "mean   19.705128  15.051282  108023.782051\n",
              "std    12.498425  12.139768   28293.661022\n",
              "min     1.000000   0.000000   57800.000000\n",
              "25%    10.250000   5.250000   88612.500000\n",
              "50%    18.500000  14.500000  104671.000000\n",
              "75%    27.750000  20.750000  126774.750000\n",
              "max    56.000000  51.000000  186960.000000"
            ]
          },
          "metadata": {
            "tags": []
          },
          "execution_count": 57
        }
      ]
    },
    {
      "cell_type": "code",
      "metadata": {
        "colab": {
          "base_uri": "https://localhost:8080/"
        },
        "id": "tXOv41zQlzl_",
        "outputId": "2e889295-ce63-4d0c-8c13-4cc23fe13c71"
      },
      "source": [
        "df.max()"
      ],
      "execution_count": 58,
      "outputs": [
        {
          "output_type": "execute_result",
          "data": {
            "text/plain": [
              "rank            Prof\n",
              "discipline         B\n",
              "phd               56\n",
              "service           51\n",
              "sex             Male\n",
              "salary        186960\n",
              "dtype: object"
            ]
          },
          "metadata": {
            "tags": []
          },
          "execution_count": 58
        }
      ]
    },
    {
      "cell_type": "code",
      "metadata": {
        "colab": {
          "base_uri": "https://localhost:8080/"
        },
        "id": "tANtZx9-l92m",
        "outputId": "7effa950-28db-45d1-ce23-bef11c76a1b4"
      },
      "source": [
        "df.min()"
      ],
      "execution_count": 59,
      "outputs": [
        {
          "output_type": "execute_result",
          "data": {
            "text/plain": [
              "rank          AssocProf\n",
              "discipline            A\n",
              "phd                   1\n",
              "service               0\n",
              "sex              Female\n",
              "salary            57800\n",
              "dtype: object"
            ]
          },
          "metadata": {
            "tags": []
          },
          "execution_count": 59
        }
      ]
    },
    {
      "cell_type": "code",
      "metadata": {
        "colab": {
          "base_uri": "https://localhost:8080/"
        },
        "id": "ZVnhtDC-mQww",
        "outputId": "b24a94b6-6da8-407b-d966-fdd0f84222a4"
      },
      "source": [
        "df.mean()"
      ],
      "execution_count": 60,
      "outputs": [
        {
          "output_type": "execute_result",
          "data": {
            "text/plain": [
              "phd            19.705128\n",
              "service        15.051282\n",
              "salary     108023.782051\n",
              "dtype: float64"
            ]
          },
          "metadata": {
            "tags": []
          },
          "execution_count": 60
        }
      ]
    },
    {
      "cell_type": "code",
      "metadata": {
        "colab": {
          "base_uri": "https://localhost:8080/"
        },
        "id": "y4W8Nn8smTDg",
        "outputId": "a399af2c-f4dd-4c2b-b506-dae775a6a789"
      },
      "source": [
        "df.discipline.value_counts()"
      ],
      "execution_count": 61,
      "outputs": [
        {
          "output_type": "execute_result",
          "data": {
            "text/plain": [
              "B    42\n",
              "A    36\n",
              "Name: discipline, dtype: int64"
            ]
          },
          "metadata": {
            "tags": []
          },
          "execution_count": 61
        }
      ]
    },
    {
      "cell_type": "code",
      "metadata": {
        "colab": {
          "base_uri": "https://localhost:8080/"
        },
        "id": "MTskJ6jzmX2Q",
        "outputId": "58ee311f-a986-4628-c40f-505e49c44d28"
      },
      "source": [
        "df.discipline"
      ],
      "execution_count": 62,
      "outputs": [
        {
          "output_type": "execute_result",
          "data": {
            "text/plain": [
              "0     B\n",
              "1     A\n",
              "2     A\n",
              "3     A\n",
              "4     B\n",
              "     ..\n",
              "73    B\n",
              "74    B\n",
              "75    B\n",
              "76    A\n",
              "77    A\n",
              "Name: discipline, Length: 78, dtype: object"
            ]
          },
          "metadata": {
            "tags": []
          },
          "execution_count": 62
        }
      ]
    },
    {
      "cell_type": "code",
      "metadata": {
        "colab": {
          "base_uri": "https://localhost:8080/"
        },
        "id": "MGhpE5Semz4i",
        "outputId": "1520fecf-2404-461c-8d8f-c27ab5b7d39a"
      },
      "source": [
        "df.describe"
      ],
      "execution_count": 65,
      "outputs": [
        {
          "output_type": "execute_result",
          "data": {
            "text/plain": [
              "<bound method NDFrame.describe of          rank discipline  phd  service     sex  salary\n",
              "0        Prof          B   56       49    Male  186960\n",
              "1        Prof          A   12        6    Male   93000\n",
              "2        Prof          A   23       20    Male  110515\n",
              "3        Prof          A   40       31    Male  131205\n",
              "4        Prof          B   20       18    Male  104800\n",
              "..        ...        ...  ...      ...     ...     ...\n",
              "73       Prof          B   18       10  Female  105450\n",
              "74  AssocProf          B   19        6  Female  104542\n",
              "75       Prof          B   17       17  Female  124312\n",
              "76       Prof          A   28       14  Female  109954\n",
              "77       Prof          A   23       15  Female  109646\n",
              "\n",
              "[78 rows x 6 columns]>"
            ]
          },
          "metadata": {
            "tags": []
          },
          "execution_count": 65
        }
      ]
    },
    {
      "cell_type": "code",
      "metadata": {
        "colab": {
          "base_uri": "https://localhost:8080/",
          "height": 282
        },
        "id": "pAMrvfy5nmBl",
        "outputId": "e123ecdb-afba-4ae4-f57c-94c4e276d268"
      },
      "source": [
        "df.describe()"
      ],
      "execution_count": 88,
      "outputs": [
        {
          "output_type": "execute_result",
          "data": {
            "text/html": [
              "<div>\n",
              "<style scoped>\n",
              "    .dataframe tbody tr th:only-of-type {\n",
              "        vertical-align: middle;\n",
              "    }\n",
              "\n",
              "    .dataframe tbody tr th {\n",
              "        vertical-align: top;\n",
              "    }\n",
              "\n",
              "    .dataframe thead th {\n",
              "        text-align: right;\n",
              "    }\n",
              "</style>\n",
              "<table border=\"1\" class=\"dataframe\">\n",
              "  <thead>\n",
              "    <tr style=\"text-align: right;\">\n",
              "      <th></th>\n",
              "      <th>phd</th>\n",
              "      <th>service</th>\n",
              "      <th>salary</th>\n",
              "    </tr>\n",
              "  </thead>\n",
              "  <tbody>\n",
              "    <tr>\n",
              "      <th>count</th>\n",
              "      <td>78.000000</td>\n",
              "      <td>78.000000</td>\n",
              "      <td>78.000000</td>\n",
              "    </tr>\n",
              "    <tr>\n",
              "      <th>mean</th>\n",
              "      <td>19.705128</td>\n",
              "      <td>15.051282</td>\n",
              "      <td>108023.782051</td>\n",
              "    </tr>\n",
              "    <tr>\n",
              "      <th>std</th>\n",
              "      <td>12.498425</td>\n",
              "      <td>12.139768</td>\n",
              "      <td>28293.661022</td>\n",
              "    </tr>\n",
              "    <tr>\n",
              "      <th>min</th>\n",
              "      <td>1.000000</td>\n",
              "      <td>0.000000</td>\n",
              "      <td>57800.000000</td>\n",
              "    </tr>\n",
              "    <tr>\n",
              "      <th>25%</th>\n",
              "      <td>10.250000</td>\n",
              "      <td>5.250000</td>\n",
              "      <td>88612.500000</td>\n",
              "    </tr>\n",
              "    <tr>\n",
              "      <th>50%</th>\n",
              "      <td>18.500000</td>\n",
              "      <td>14.500000</td>\n",
              "      <td>104671.000000</td>\n",
              "    </tr>\n",
              "    <tr>\n",
              "      <th>75%</th>\n",
              "      <td>27.750000</td>\n",
              "      <td>20.750000</td>\n",
              "      <td>126774.750000</td>\n",
              "    </tr>\n",
              "    <tr>\n",
              "      <th>max</th>\n",
              "      <td>56.000000</td>\n",
              "      <td>51.000000</td>\n",
              "      <td>186960.000000</td>\n",
              "    </tr>\n",
              "  </tbody>\n",
              "</table>\n",
              "</div>"
            ],
            "text/plain": [
              "             phd    service         salary\n",
              "count  78.000000  78.000000      78.000000\n",
              "mean   19.705128  15.051282  108023.782051\n",
              "std    12.498425  12.139768   28293.661022\n",
              "min     1.000000   0.000000   57800.000000\n",
              "25%    10.250000   5.250000   88612.500000\n",
              "50%    18.500000  14.500000  104671.000000\n",
              "75%    27.750000  20.750000  126774.750000\n",
              "max    56.000000  51.000000  186960.000000"
            ]
          },
          "metadata": {
            "tags": []
          },
          "execution_count": 88
        }
      ]
    },
    {
      "cell_type": "code",
      "metadata": {
        "colab": {
          "base_uri": "https://localhost:8080/"
        },
        "id": "JcgQ0bBbn9Fw",
        "outputId": "c9dcabfb-2ee4-4a17-ae40-860f3c4bef0f"
      },
      "source": [
        "df.std()"
      ],
      "execution_count": 67,
      "outputs": [
        {
          "output_type": "execute_result",
          "data": {
            "text/plain": [
              "phd           12.498425\n",
              "service       12.139768\n",
              "salary     28293.661022\n",
              "dtype: float64"
            ]
          },
          "metadata": {
            "tags": []
          },
          "execution_count": 67
        }
      ]
    },
    {
      "cell_type": "code",
      "metadata": {
        "colab": {
          "base_uri": "https://localhost:8080/",
          "height": 441
        },
        "id": "VmDdbJPGoKsy",
        "outputId": "1899699b-c944-4dbd-ddfe-b97878c8cfa2"
      },
      "source": [
        "df.mean(50)"
      ],
      "execution_count": 69,
      "outputs": [
        {
          "output_type": "error",
          "ename": "ValueError",
          "evalue": "ignored",
          "traceback": [
            "\u001b[0;31m---------------------------------------------------------------------------\u001b[0m",
            "\u001b[0;31mKeyError\u001b[0m                                  Traceback (most recent call last)",
            "\u001b[0;32m/usr/local/lib/python3.6/dist-packages/pandas/core/generic.py\u001b[0m in \u001b[0;36m_get_axis_number\u001b[0;34m(cls, axis)\u001b[0m\n\u001b[1;32m    367\u001b[0m         \u001b[0;32mtry\u001b[0m\u001b[0;34m:\u001b[0m\u001b[0;34m\u001b[0m\u001b[0;34m\u001b[0m\u001b[0m\n\u001b[0;32m--> 368\u001b[0;31m             \u001b[0;32mreturn\u001b[0m \u001b[0mcls\u001b[0m\u001b[0;34m.\u001b[0m\u001b[0m_AXIS_TO_AXIS_NUMBER\u001b[0m\u001b[0;34m[\u001b[0m\u001b[0maxis\u001b[0m\u001b[0;34m]\u001b[0m\u001b[0;34m\u001b[0m\u001b[0;34m\u001b[0m\u001b[0m\n\u001b[0m\u001b[1;32m    369\u001b[0m         \u001b[0;32mexcept\u001b[0m \u001b[0mKeyError\u001b[0m\u001b[0;34m:\u001b[0m\u001b[0;34m\u001b[0m\u001b[0;34m\u001b[0m\u001b[0m\n",
            "\u001b[0;31mKeyError\u001b[0m: 50",
            "\nDuring handling of the above exception, another exception occurred:\n",
            "\u001b[0;31mValueError\u001b[0m                                Traceback (most recent call last)",
            "\u001b[0;32m<ipython-input-69-9e81c72a4f07>\u001b[0m in \u001b[0;36m<module>\u001b[0;34m()\u001b[0m\n\u001b[0;32m----> 1\u001b[0;31m \u001b[0mdf\u001b[0m\u001b[0;34m.\u001b[0m\u001b[0mmean\u001b[0m\u001b[0;34m(\u001b[0m\u001b[0;36m50\u001b[0m\u001b[0;34m)\u001b[0m\u001b[0;34m\u001b[0m\u001b[0;34m\u001b[0m\u001b[0m\n\u001b[0m",
            "\u001b[0;32m/usr/local/lib/python3.6/dist-packages/pandas/core/generic.py\u001b[0m in \u001b[0;36mstat_func\u001b[0;34m(self, axis, skipna, level, numeric_only, **kwargs)\u001b[0m\n\u001b[1;32m  11473\u001b[0m             \u001b[0;32mreturn\u001b[0m \u001b[0mself\u001b[0m\u001b[0;34m.\u001b[0m\u001b[0m_agg_by_level\u001b[0m\u001b[0;34m(\u001b[0m\u001b[0mname\u001b[0m\u001b[0;34m,\u001b[0m \u001b[0maxis\u001b[0m\u001b[0;34m=\u001b[0m\u001b[0maxis\u001b[0m\u001b[0;34m,\u001b[0m \u001b[0mlevel\u001b[0m\u001b[0;34m=\u001b[0m\u001b[0mlevel\u001b[0m\u001b[0;34m,\u001b[0m \u001b[0mskipna\u001b[0m\u001b[0;34m=\u001b[0m\u001b[0mskipna\u001b[0m\u001b[0;34m)\u001b[0m\u001b[0;34m\u001b[0m\u001b[0;34m\u001b[0m\u001b[0m\n\u001b[1;32m  11474\u001b[0m         return self._reduce(\n\u001b[0;32m> 11475\u001b[0;31m             \u001b[0mfunc\u001b[0m\u001b[0;34m,\u001b[0m \u001b[0mname\u001b[0m\u001b[0;34m=\u001b[0m\u001b[0mname\u001b[0m\u001b[0;34m,\u001b[0m \u001b[0maxis\u001b[0m\u001b[0;34m=\u001b[0m\u001b[0maxis\u001b[0m\u001b[0;34m,\u001b[0m \u001b[0mskipna\u001b[0m\u001b[0;34m=\u001b[0m\u001b[0mskipna\u001b[0m\u001b[0;34m,\u001b[0m \u001b[0mnumeric_only\u001b[0m\u001b[0;34m=\u001b[0m\u001b[0mnumeric_only\u001b[0m\u001b[0;34m\u001b[0m\u001b[0;34m\u001b[0m\u001b[0m\n\u001b[0m\u001b[1;32m  11476\u001b[0m         )\n\u001b[1;32m  11477\u001b[0m \u001b[0;34m\u001b[0m\u001b[0m\n",
            "\u001b[0;32m/usr/local/lib/python3.6/dist-packages/pandas/core/frame.py\u001b[0m in \u001b[0;36m_reduce\u001b[0;34m(self, op, name, axis, skipna, numeric_only, filter_type, **kwds)\u001b[0m\n\u001b[1;32m   8565\u001b[0m         \u001b[0;32melse\u001b[0m\u001b[0;34m:\u001b[0m\u001b[0;34m\u001b[0m\u001b[0;34m\u001b[0m\u001b[0m\n\u001b[1;32m   8566\u001b[0m             \u001b[0;31m# TODO: Make other agg func handle axis=None properly\u001b[0m\u001b[0;34m\u001b[0m\u001b[0;34m\u001b[0m\u001b[0;34m\u001b[0m\u001b[0m\n\u001b[0;32m-> 8567\u001b[0;31m             \u001b[0maxis\u001b[0m \u001b[0;34m=\u001b[0m \u001b[0mself\u001b[0m\u001b[0;34m.\u001b[0m\u001b[0m_get_axis_number\u001b[0m\u001b[0;34m(\u001b[0m\u001b[0maxis\u001b[0m\u001b[0;34m)\u001b[0m\u001b[0;34m\u001b[0m\u001b[0;34m\u001b[0m\u001b[0m\n\u001b[0m\u001b[1;32m   8568\u001b[0m             \u001b[0mlabels\u001b[0m \u001b[0;34m=\u001b[0m \u001b[0mself\u001b[0m\u001b[0;34m.\u001b[0m\u001b[0m_get_agg_axis\u001b[0m\u001b[0;34m(\u001b[0m\u001b[0maxis\u001b[0m\u001b[0;34m)\u001b[0m\u001b[0;34m\u001b[0m\u001b[0;34m\u001b[0m\u001b[0m\n\u001b[1;32m   8569\u001b[0m             \u001b[0mconstructor\u001b[0m \u001b[0;34m=\u001b[0m \u001b[0mself\u001b[0m\u001b[0;34m.\u001b[0m\u001b[0m_constructor\u001b[0m\u001b[0;34m\u001b[0m\u001b[0;34m\u001b[0m\u001b[0m\n",
            "\u001b[0;32m/usr/local/lib/python3.6/dist-packages/pandas/core/generic.py\u001b[0m in \u001b[0;36m_get_axis_number\u001b[0;34m(cls, axis)\u001b[0m\n\u001b[1;32m    368\u001b[0m             \u001b[0;32mreturn\u001b[0m \u001b[0mcls\u001b[0m\u001b[0;34m.\u001b[0m\u001b[0m_AXIS_TO_AXIS_NUMBER\u001b[0m\u001b[0;34m[\u001b[0m\u001b[0maxis\u001b[0m\u001b[0;34m]\u001b[0m\u001b[0;34m\u001b[0m\u001b[0;34m\u001b[0m\u001b[0m\n\u001b[1;32m    369\u001b[0m         \u001b[0;32mexcept\u001b[0m \u001b[0mKeyError\u001b[0m\u001b[0;34m:\u001b[0m\u001b[0;34m\u001b[0m\u001b[0;34m\u001b[0m\u001b[0m\n\u001b[0;32m--> 370\u001b[0;31m             \u001b[0;32mraise\u001b[0m \u001b[0mValueError\u001b[0m\u001b[0;34m(\u001b[0m\u001b[0;34mf\"No axis named {axis} for object type {cls.__name__}\"\u001b[0m\u001b[0;34m)\u001b[0m\u001b[0;34m\u001b[0m\u001b[0;34m\u001b[0m\u001b[0m\n\u001b[0m\u001b[1;32m    371\u001b[0m \u001b[0;34m\u001b[0m\u001b[0m\n\u001b[1;32m    372\u001b[0m     \u001b[0;34m@\u001b[0m\u001b[0mclassmethod\u001b[0m\u001b[0;34m\u001b[0m\u001b[0;34m\u001b[0m\u001b[0m\n",
            "\u001b[0;31mValueError\u001b[0m: No axis named 50 for object type DataFrame"
          ]
        }
      ]
    },
    {
      "cell_type": "code",
      "metadata": {
        "colab": {
          "base_uri": "https://localhost:8080/"
        },
        "id": "lv0WsO7GoUZ6",
        "outputId": "454c8df3-a3be-4d27-da30-de7af85a78d3"
      },
      "source": [
        "df.head(50).mean()"
      ],
      "execution_count": 73,
      "outputs": [
        {
          "output_type": "execute_result",
          "data": {
            "text/plain": [
              "phd            21.52\n",
              "service        17.60\n",
              "salary     113789.14\n",
              "dtype: float64"
            ]
          },
          "metadata": {
            "tags": []
          },
          "execution_count": 73
        }
      ]
    },
    {
      "cell_type": "code",
      "metadata": {
        "colab": {
          "base_uri": "https://localhost:8080/"
        },
        "id": "4nwGcDZKofAQ",
        "outputId": "0d1fab7d-230a-4141-e951-6321c36389e8"
      },
      "source": [
        "df['salary']"
      ],
      "execution_count": 74,
      "outputs": [
        {
          "output_type": "execute_result",
          "data": {
            "text/plain": [
              "0     186960\n",
              "1      93000\n",
              "2     110515\n",
              "3     131205\n",
              "4     104800\n",
              "       ...  \n",
              "73    105450\n",
              "74    104542\n",
              "75    124312\n",
              "76    109954\n",
              "77    109646\n",
              "Name: salary, Length: 78, dtype: int64"
            ]
          },
          "metadata": {
            "tags": []
          },
          "execution_count": 74
        }
      ]
    },
    {
      "cell_type": "code",
      "metadata": {
        "colab": {
          "base_uri": "https://localhost:8080/",
          "height": 399
        },
        "id": "C2TIt3jjpiii",
        "outputId": "c83030ec-e13e-4cf8-da5c-d00d2778ea70"
      },
      "source": [
        "df[['salary']]"
      ],
      "execution_count": 75,
      "outputs": [
        {
          "output_type": "execute_result",
          "data": {
            "text/html": [
              "<div>\n",
              "<style scoped>\n",
              "    .dataframe tbody tr th:only-of-type {\n",
              "        vertical-align: middle;\n",
              "    }\n",
              "\n",
              "    .dataframe tbody tr th {\n",
              "        vertical-align: top;\n",
              "    }\n",
              "\n",
              "    .dataframe thead th {\n",
              "        text-align: right;\n",
              "    }\n",
              "</style>\n",
              "<table border=\"1\" class=\"dataframe\">\n",
              "  <thead>\n",
              "    <tr style=\"text-align: right;\">\n",
              "      <th></th>\n",
              "      <th>salary</th>\n",
              "    </tr>\n",
              "  </thead>\n",
              "  <tbody>\n",
              "    <tr>\n",
              "      <th>0</th>\n",
              "      <td>186960</td>\n",
              "    </tr>\n",
              "    <tr>\n",
              "      <th>1</th>\n",
              "      <td>93000</td>\n",
              "    </tr>\n",
              "    <tr>\n",
              "      <th>2</th>\n",
              "      <td>110515</td>\n",
              "    </tr>\n",
              "    <tr>\n",
              "      <th>3</th>\n",
              "      <td>131205</td>\n",
              "    </tr>\n",
              "    <tr>\n",
              "      <th>4</th>\n",
              "      <td>104800</td>\n",
              "    </tr>\n",
              "    <tr>\n",
              "      <th>...</th>\n",
              "      <td>...</td>\n",
              "    </tr>\n",
              "    <tr>\n",
              "      <th>73</th>\n",
              "      <td>105450</td>\n",
              "    </tr>\n",
              "    <tr>\n",
              "      <th>74</th>\n",
              "      <td>104542</td>\n",
              "    </tr>\n",
              "    <tr>\n",
              "      <th>75</th>\n",
              "      <td>124312</td>\n",
              "    </tr>\n",
              "    <tr>\n",
              "      <th>76</th>\n",
              "      <td>109954</td>\n",
              "    </tr>\n",
              "    <tr>\n",
              "      <th>77</th>\n",
              "      <td>109646</td>\n",
              "    </tr>\n",
              "  </tbody>\n",
              "</table>\n",
              "<p>78 rows × 1 columns</p>\n",
              "</div>"
            ],
            "text/plain": [
              "    salary\n",
              "0   186960\n",
              "1    93000\n",
              "2   110515\n",
              "3   131205\n",
              "4   104800\n",
              "..     ...\n",
              "73  105450\n",
              "74  104542\n",
              "75  124312\n",
              "76  109954\n",
              "77  109646\n",
              "\n",
              "[78 rows x 1 columns]"
            ]
          },
          "metadata": {
            "tags": []
          },
          "execution_count": 75
        }
      ]
    },
    {
      "cell_type": "code",
      "metadata": {
        "colab": {
          "base_uri": "https://localhost:8080/"
        },
        "id": "NIv6XrK0pl7x",
        "outputId": "aa7d7cb6-d6e4-4901-e8dd-3eecd0e25ec6"
      },
      "source": [
        "dir(df)"
      ],
      "execution_count": 76,
      "outputs": [
        {
          "output_type": "execute_result",
          "data": {
            "text/plain": [
              "['T',\n",
              " '_AXIS_LEN',\n",
              " '_AXIS_NAMES',\n",
              " '_AXIS_NUMBERS',\n",
              " '_AXIS_ORDERS',\n",
              " '_AXIS_REVERSED',\n",
              " '_AXIS_TO_AXIS_NUMBER',\n",
              " '__abs__',\n",
              " '__add__',\n",
              " '__and__',\n",
              " '__annotations__',\n",
              " '__array__',\n",
              " '__array_priority__',\n",
              " '__array_wrap__',\n",
              " '__bool__',\n",
              " '__class__',\n",
              " '__contains__',\n",
              " '__copy__',\n",
              " '__deepcopy__',\n",
              " '__delattr__',\n",
              " '__delitem__',\n",
              " '__dict__',\n",
              " '__dir__',\n",
              " '__div__',\n",
              " '__doc__',\n",
              " '__eq__',\n",
              " '__finalize__',\n",
              " '__floordiv__',\n",
              " '__format__',\n",
              " '__ge__',\n",
              " '__getattr__',\n",
              " '__getattribute__',\n",
              " '__getitem__',\n",
              " '__getstate__',\n",
              " '__gt__',\n",
              " '__hash__',\n",
              " '__iadd__',\n",
              " '__iand__',\n",
              " '__ifloordiv__',\n",
              " '__imod__',\n",
              " '__imul__',\n",
              " '__init__',\n",
              " '__init_subclass__',\n",
              " '__invert__',\n",
              " '__ior__',\n",
              " '__ipow__',\n",
              " '__isub__',\n",
              " '__iter__',\n",
              " '__itruediv__',\n",
              " '__ixor__',\n",
              " '__le__',\n",
              " '__len__',\n",
              " '__lt__',\n",
              " '__matmul__',\n",
              " '__mod__',\n",
              " '__module__',\n",
              " '__mul__',\n",
              " '__ne__',\n",
              " '__neg__',\n",
              " '__new__',\n",
              " '__nonzero__',\n",
              " '__or__',\n",
              " '__pos__',\n",
              " '__pow__',\n",
              " '__radd__',\n",
              " '__rand__',\n",
              " '__rdiv__',\n",
              " '__reduce__',\n",
              " '__reduce_ex__',\n",
              " '__repr__',\n",
              " '__rfloordiv__',\n",
              " '__rmatmul__',\n",
              " '__rmod__',\n",
              " '__rmul__',\n",
              " '__ror__',\n",
              " '__round__',\n",
              " '__rpow__',\n",
              " '__rsub__',\n",
              " '__rtruediv__',\n",
              " '__rxor__',\n",
              " '__setattr__',\n",
              " '__setitem__',\n",
              " '__setstate__',\n",
              " '__sizeof__',\n",
              " '__str__',\n",
              " '__sub__',\n",
              " '__subclasshook__',\n",
              " '__truediv__',\n",
              " '__weakref__',\n",
              " '__xor__',\n",
              " '_accessors',\n",
              " '_add_numeric_operations',\n",
              " '_add_series_or_dataframe_operations',\n",
              " '_agg_by_level',\n",
              " '_agg_examples_doc',\n",
              " '_agg_summary_and_see_also_doc',\n",
              " '_aggregate',\n",
              " '_aggregate_multiple_funcs',\n",
              " '_align_frame',\n",
              " '_align_series',\n",
              " '_box_col_values',\n",
              " '_builtin_table',\n",
              " '_can_fast_transpose',\n",
              " '_check_inplace_setting',\n",
              " '_check_is_chained_assignment_possible',\n",
              " '_check_label_or_level_ambiguity',\n",
              " '_check_setitem_copy',\n",
              " '_clear_item_cache',\n",
              " '_clip_with_one_bound',\n",
              " '_clip_with_scalar',\n",
              " '_combine_frame',\n",
              " '_consolidate',\n",
              " '_consolidate_inplace',\n",
              " '_construct_axes_dict',\n",
              " '_construct_axes_from_arguments',\n",
              " '_construct_result',\n",
              " '_constructor',\n",
              " '_constructor_expanddim',\n",
              " '_constructor_sliced',\n",
              " '_convert',\n",
              " '_count_level',\n",
              " '_cython_table',\n",
              " '_data',\n",
              " '_deprecations',\n",
              " '_dir_additions',\n",
              " '_dir_deletions',\n",
              " '_drop_axis',\n",
              " '_drop_labels_or_levels',\n",
              " '_ensure_valid_index',\n",
              " '_find_valid_index',\n",
              " '_from_arrays',\n",
              " '_get_agg_axis',\n",
              " '_get_axis',\n",
              " '_get_axis_name',\n",
              " '_get_axis_number',\n",
              " '_get_axis_resolvers',\n",
              " '_get_block_manager_axis',\n",
              " '_get_bool_data',\n",
              " '_get_cacher',\n",
              " '_get_cleaned_column_resolvers',\n",
              " '_get_column_array',\n",
              " '_get_cython_func',\n",
              " '_get_index_resolvers',\n",
              " '_get_item_cache',\n",
              " '_get_label_or_level_values',\n",
              " '_get_numeric_data',\n",
              " '_get_value',\n",
              " '_getitem_bool_array',\n",
              " '_getitem_multilevel',\n",
              " '_gotitem',\n",
              " '_indexed_same',\n",
              " '_info_axis',\n",
              " '_info_axis_name',\n",
              " '_info_axis_number',\n",
              " '_info_repr',\n",
              " '_init_mgr',\n",
              " '_internal_names',\n",
              " '_internal_names_set',\n",
              " '_is_builtin_func',\n",
              " '_is_cached',\n",
              " '_is_copy',\n",
              " '_is_homogeneous_type',\n",
              " '_is_label_or_level_reference',\n",
              " '_is_label_reference',\n",
              " '_is_level_reference',\n",
              " '_is_mixed_type',\n",
              " '_is_view',\n",
              " '_iset_item',\n",
              " '_iter_column_arrays',\n",
              " '_ix',\n",
              " '_ixs',\n",
              " '_join_compat',\n",
              " '_maybe_cache_changed',\n",
              " '_maybe_update_cacher',\n",
              " '_metadata',\n",
              " '_needs_reindex_multi',\n",
              " '_obj_with_exclusions',\n",
              " '_protect_consolidate',\n",
              " '_reduce',\n",
              " '_reindex_axes',\n",
              " '_reindex_columns',\n",
              " '_reindex_index',\n",
              " '_reindex_multi',\n",
              " '_reindex_with_indexers',\n",
              " '_replace_columnwise',\n",
              " '_repr_data_resource_',\n",
              " '_repr_fits_horizontal_',\n",
              " '_repr_fits_vertical_',\n",
              " '_repr_html_',\n",
              " '_repr_latex_',\n",
              " '_reset_cache',\n",
              " '_reset_cacher',\n",
              " '_sanitize_column',\n",
              " '_selected_obj',\n",
              " '_selection',\n",
              " '_selection_list',\n",
              " '_selection_name',\n",
              " '_series',\n",
              " '_set_as_cached',\n",
              " '_set_axis',\n",
              " '_set_axis_name',\n",
              " '_set_is_copy',\n",
              " '_set_item',\n",
              " '_set_value',\n",
              " '_setitem_array',\n",
              " '_setitem_frame',\n",
              " '_setitem_slice',\n",
              " '_slice',\n",
              " '_stat_axis',\n",
              " '_stat_axis_name',\n",
              " '_stat_axis_number',\n",
              " '_take_with_is_copy',\n",
              " '_to_dict_of_blocks',\n",
              " '_try_aggregate_string_function',\n",
              " '_typ',\n",
              " '_update_inplace',\n",
              " '_validate_dtype',\n",
              " '_values',\n",
              " '_where',\n",
              " 'abs',\n",
              " 'add',\n",
              " 'add_prefix',\n",
              " 'add_suffix',\n",
              " 'agg',\n",
              " 'aggregate',\n",
              " 'align',\n",
              " 'all',\n",
              " 'any',\n",
              " 'append',\n",
              " 'apply',\n",
              " 'applymap',\n",
              " 'asfreq',\n",
              " 'asof',\n",
              " 'assign',\n",
              " 'astype',\n",
              " 'at',\n",
              " 'at_time',\n",
              " 'attrs',\n",
              " 'axes',\n",
              " 'backfill',\n",
              " 'between_time',\n",
              " 'bfill',\n",
              " 'bool',\n",
              " 'boxplot',\n",
              " 'clip',\n",
              " 'columns',\n",
              " 'combine',\n",
              " 'combine_first',\n",
              " 'compare',\n",
              " 'convert_dtypes',\n",
              " 'copy',\n",
              " 'corr',\n",
              " 'corrwith',\n",
              " 'count',\n",
              " 'cov',\n",
              " 'cummax',\n",
              " 'cummin',\n",
              " 'cumprod',\n",
              " 'cumsum',\n",
              " 'describe',\n",
              " 'diff',\n",
              " 'discipline',\n",
              " 'div',\n",
              " 'divide',\n",
              " 'dot',\n",
              " 'drop',\n",
              " 'drop_duplicates',\n",
              " 'droplevel',\n",
              " 'dropna',\n",
              " 'dtypes',\n",
              " 'duplicated',\n",
              " 'empty',\n",
              " 'eq',\n",
              " 'equals',\n",
              " 'eval',\n",
              " 'ewm',\n",
              " 'expanding',\n",
              " 'explode',\n",
              " 'ffill',\n",
              " 'fillna',\n",
              " 'filter',\n",
              " 'first',\n",
              " 'first_valid_index',\n",
              " 'floordiv',\n",
              " 'from_dict',\n",
              " 'from_records',\n",
              " 'ge',\n",
              " 'get',\n",
              " 'groupby',\n",
              " 'gt',\n",
              " 'head',\n",
              " 'hist',\n",
              " 'iat',\n",
              " 'idxmax',\n",
              " 'idxmin',\n",
              " 'iloc',\n",
              " 'index',\n",
              " 'infer_objects',\n",
              " 'info',\n",
              " 'insert',\n",
              " 'interpolate',\n",
              " 'isin',\n",
              " 'isna',\n",
              " 'isnull',\n",
              " 'items',\n",
              " 'iteritems',\n",
              " 'iterrows',\n",
              " 'itertuples',\n",
              " 'join',\n",
              " 'keys',\n",
              " 'kurt',\n",
              " 'kurtosis',\n",
              " 'last',\n",
              " 'last_valid_index',\n",
              " 'le',\n",
              " 'loc',\n",
              " 'lookup',\n",
              " 'lt',\n",
              " 'mad',\n",
              " 'mask',\n",
              " 'max',\n",
              " 'mean',\n",
              " 'median',\n",
              " 'melt',\n",
              " 'memory_usage',\n",
              " 'merge',\n",
              " 'min',\n",
              " 'mod',\n",
              " 'mode',\n",
              " 'mul',\n",
              " 'multiply',\n",
              " 'ndim',\n",
              " 'ne',\n",
              " 'nlargest',\n",
              " 'notna',\n",
              " 'notnull',\n",
              " 'nsmallest',\n",
              " 'nunique',\n",
              " 'pad',\n",
              " 'pct_change',\n",
              " 'phd',\n",
              " 'pipe',\n",
              " 'pivot',\n",
              " 'pivot_table',\n",
              " 'plot',\n",
              " 'pop',\n",
              " 'pow',\n",
              " 'prod',\n",
              " 'product',\n",
              " 'quantile',\n",
              " 'query',\n",
              " 'radd',\n",
              " 'rank',\n",
              " 'rdiv',\n",
              " 'reindex',\n",
              " 'reindex_like',\n",
              " 'rename',\n",
              " 'rename_axis',\n",
              " 'reorder_levels',\n",
              " 'replace',\n",
              " 'resample',\n",
              " 'reset_index',\n",
              " 'rfloordiv',\n",
              " 'rmod',\n",
              " 'rmul',\n",
              " 'rolling',\n",
              " 'round',\n",
              " 'rpow',\n",
              " 'rsub',\n",
              " 'rtruediv',\n",
              " 'salary',\n",
              " 'sample',\n",
              " 'select_dtypes',\n",
              " 'sem',\n",
              " 'service',\n",
              " 'set_axis',\n",
              " 'set_index',\n",
              " 'sex',\n",
              " 'shape',\n",
              " 'shift',\n",
              " 'size',\n",
              " 'skew',\n",
              " 'slice_shift',\n",
              " 'sort_index',\n",
              " 'sort_values',\n",
              " 'squeeze',\n",
              " 'stack',\n",
              " 'std',\n",
              " 'style',\n",
              " 'sub',\n",
              " 'subtract',\n",
              " 'sum',\n",
              " 'swapaxes',\n",
              " 'swaplevel',\n",
              " 'tail',\n",
              " 'take',\n",
              " 'to_clipboard',\n",
              " 'to_csv',\n",
              " 'to_dict',\n",
              " 'to_excel',\n",
              " 'to_feather',\n",
              " 'to_gbq',\n",
              " 'to_hdf',\n",
              " 'to_html',\n",
              " 'to_json',\n",
              " 'to_latex',\n",
              " 'to_markdown',\n",
              " 'to_numpy',\n",
              " 'to_parquet',\n",
              " 'to_period',\n",
              " 'to_pickle',\n",
              " 'to_records',\n",
              " 'to_sql',\n",
              " 'to_stata',\n",
              " 'to_string',\n",
              " 'to_timestamp',\n",
              " 'to_xarray',\n",
              " 'transform',\n",
              " 'transpose',\n",
              " 'truediv',\n",
              " 'truncate',\n",
              " 'tz_convert',\n",
              " 'tz_localize',\n",
              " 'unstack',\n",
              " 'update',\n",
              " 'value_counts',\n",
              " 'values',\n",
              " 'var',\n",
              " 'where',\n",
              " 'xs']"
            ]
          },
          "metadata": {
            "tags": []
          },
          "execution_count": 76
        }
      ]
    },
    {
      "cell_type": "code",
      "metadata": {
        "colab": {
          "base_uri": "https://localhost:8080/"
        },
        "id": "7LurPuEWqWgM",
        "outputId": "5ee7b790-5395-41f4-9e08-07f246c90010"
      },
      "source": [
        "df['phd']"
      ],
      "execution_count": 80,
      "outputs": [
        {
          "output_type": "execute_result",
          "data": {
            "text/plain": [
              "0     56\n",
              "1     12\n",
              "2     23\n",
              "3     40\n",
              "4     20\n",
              "      ..\n",
              "73    18\n",
              "74    19\n",
              "75    17\n",
              "76    28\n",
              "77    23\n",
              "Name: phd, Length: 78, dtype: int64"
            ]
          },
          "metadata": {
            "tags": []
          },
          "execution_count": 80
        }
      ]
    },
    {
      "cell_type": "code",
      "metadata": {
        "colab": {
          "base_uri": "https://localhost:8080/"
        },
        "id": "eDUF3jDdqrCh",
        "outputId": "c937b2f5-30db-43f9-b909-5bcac1ef1039"
      },
      "source": [
        "df['phd'].describe"
      ],
      "execution_count": 81,
      "outputs": [
        {
          "output_type": "execute_result",
          "data": {
            "text/plain": [
              "<bound method NDFrame.describe of 0     56\n",
              "1     12\n",
              "2     23\n",
              "3     40\n",
              "4     20\n",
              "      ..\n",
              "73    18\n",
              "74    19\n",
              "75    17\n",
              "76    28\n",
              "77    23\n",
              "Name: phd, Length: 78, dtype: int64>"
            ]
          },
          "metadata": {
            "tags": []
          },
          "execution_count": 81
        }
      ]
    },
    {
      "cell_type": "code",
      "metadata": {
        "colab": {
          "base_uri": "https://localhost:8080/"
        },
        "id": "1d5Bcw0drArJ",
        "outputId": "157d0290-9af2-4b9b-863c-a433b7b257b5"
      },
      "source": [
        "df.phd.describe()"
      ],
      "execution_count": 89,
      "outputs": [
        {
          "output_type": "execute_result",
          "data": {
            "text/plain": [
              "count    78.000000\n",
              "mean     19.705128\n",
              "std      12.498425\n",
              "min       1.000000\n",
              "25%      10.250000\n",
              "50%      18.500000\n",
              "75%      27.750000\n",
              "max      56.000000\n",
              "Name: phd, dtype: float64"
            ]
          },
          "metadata": {
            "tags": []
          },
          "execution_count": 89
        }
      ]
    },
    {
      "cell_type": "code",
      "metadata": {
        "colab": {
          "base_uri": "https://localhost:8080/"
        },
        "id": "vVFdl-emrLgC",
        "outputId": "216e6967-71ba-48d4-8e36-ead6ab289d01"
      },
      "source": [
        "df.phd.count()"
      ],
      "execution_count": 90,
      "outputs": [
        {
          "output_type": "execute_result",
          "data": {
            "text/plain": [
              "78"
            ]
          },
          "metadata": {
            "tags": []
          },
          "execution_count": 90
        }
      ]
    },
    {
      "cell_type": "code",
      "metadata": {
        "colab": {
          "base_uri": "https://localhost:8080/"
        },
        "id": "sLiCsRO5r2QP",
        "outputId": "ef5b43f8-3254-48c1-a120-d259003bf266"
      },
      "source": [
        "df.phd.mean()"
      ],
      "execution_count": 91,
      "outputs": [
        {
          "output_type": "execute_result",
          "data": {
            "text/plain": [
              "19.705128205128204"
            ]
          },
          "metadata": {
            "tags": []
          },
          "execution_count": 91
        }
      ]
    },
    {
      "cell_type": "markdown",
      "metadata": {
        "id": "uHyhGbR9sIS5"
      },
      "source": [
        "#### Code in python"
      ]
    },
    {
      "cell_type": "code",
      "metadata": {
        "colab": {
          "base_uri": "https://localhost:8080/",
          "height": 220
        },
        "id": "WqNqaLfor4hz",
        "outputId": "8da74025-ca78-46c0-e95a-900c37322fff"
      },
      "source": [
        "df.groupby('rank')['salary','phd'].mean()"
      ],
      "execution_count": 94,
      "outputs": [
        {
          "output_type": "stream",
          "text": [
            "/usr/local/lib/python3.6/dist-packages/ipykernel_launcher.py:1: FutureWarning: Indexing with multiple keys (implicitly converted to a tuple of keys) will be deprecated, use a list instead.\n",
            "  \"\"\"Entry point for launching an IPython kernel.\n"
          ],
          "name": "stderr"
        },
        {
          "output_type": "execute_result",
          "data": {
            "text/html": [
              "<div>\n",
              "<style scoped>\n",
              "    .dataframe tbody tr th:only-of-type {\n",
              "        vertical-align: middle;\n",
              "    }\n",
              "\n",
              "    .dataframe tbody tr th {\n",
              "        vertical-align: top;\n",
              "    }\n",
              "\n",
              "    .dataframe thead th {\n",
              "        text-align: right;\n",
              "    }\n",
              "</style>\n",
              "<table border=\"1\" class=\"dataframe\">\n",
              "  <thead>\n",
              "    <tr style=\"text-align: right;\">\n",
              "      <th></th>\n",
              "      <th>salary</th>\n",
              "      <th>phd</th>\n",
              "    </tr>\n",
              "    <tr>\n",
              "      <th>rank</th>\n",
              "      <th></th>\n",
              "      <th></th>\n",
              "    </tr>\n",
              "  </thead>\n",
              "  <tbody>\n",
              "    <tr>\n",
              "      <th>AssocProf</th>\n",
              "      <td>91786.230769</td>\n",
              "      <td>15.076923</td>\n",
              "    </tr>\n",
              "    <tr>\n",
              "      <th>AsstProf</th>\n",
              "      <td>81362.789474</td>\n",
              "      <td>5.052632</td>\n",
              "    </tr>\n",
              "    <tr>\n",
              "      <th>Prof</th>\n",
              "      <td>123624.804348</td>\n",
              "      <td>27.065217</td>\n",
              "    </tr>\n",
              "  </tbody>\n",
              "</table>\n",
              "</div>"
            ],
            "text/plain": [
              "                  salary        phd\n",
              "rank                               \n",
              "AssocProf   91786.230769  15.076923\n",
              "AsstProf    81362.789474   5.052632\n",
              "Prof       123624.804348  27.065217"
            ]
          },
          "metadata": {
            "tags": []
          },
          "execution_count": 94
        }
      ]
    },
    {
      "cell_type": "code",
      "metadata": {
        "id": "gBjD8LyEt1Sd"
      },
      "source": [
        "grouped=df.groupby('rank')"
      ],
      "execution_count": 95,
      "outputs": []
    },
    {
      "cell_type": "code",
      "metadata": {
        "colab": {
          "base_uri": "https://localhost:8080/"
        },
        "id": "37pjexC8uW2y",
        "outputId": "1366df5a-d67c-456d-9b55-96624d1bfa1d"
      },
      "source": [
        "df.groupby(['rank']).mean"
      ],
      "execution_count": 96,
      "outputs": [
        {
          "output_type": "execute_result",
          "data": {
            "text/plain": [
              "<bound method GroupBy.mean of <pandas.core.groupby.generic.DataFrameGroupBy object at 0x7f667e489240>>"
            ]
          },
          "metadata": {
            "tags": []
          },
          "execution_count": 96
        }
      ]
    },
    {
      "cell_type": "code",
      "metadata": {
        "colab": {
          "base_uri": "https://localhost:8080/",
          "height": 487
        },
        "id": "5k9Lu5tEu7kq",
        "outputId": "fe9b15ca-197d-4102-9b7a-63d885c6a4a5"
      },
      "source": [
        "grouped.head()"
      ],
      "execution_count": 97,
      "outputs": [
        {
          "output_type": "execute_result",
          "data": {
            "text/html": [
              "<div>\n",
              "<style scoped>\n",
              "    .dataframe tbody tr th:only-of-type {\n",
              "        vertical-align: middle;\n",
              "    }\n",
              "\n",
              "    .dataframe tbody tr th {\n",
              "        vertical-align: top;\n",
              "    }\n",
              "\n",
              "    .dataframe thead th {\n",
              "        text-align: right;\n",
              "    }\n",
              "</style>\n",
              "<table border=\"1\" class=\"dataframe\">\n",
              "  <thead>\n",
              "    <tr style=\"text-align: right;\">\n",
              "      <th></th>\n",
              "      <th>rank</th>\n",
              "      <th>discipline</th>\n",
              "      <th>phd</th>\n",
              "      <th>service</th>\n",
              "      <th>sex</th>\n",
              "      <th>salary</th>\n",
              "    </tr>\n",
              "  </thead>\n",
              "  <tbody>\n",
              "    <tr>\n",
              "      <th>0</th>\n",
              "      <td>Prof</td>\n",
              "      <td>B</td>\n",
              "      <td>56</td>\n",
              "      <td>49</td>\n",
              "      <td>Male</td>\n",
              "      <td>186960</td>\n",
              "    </tr>\n",
              "    <tr>\n",
              "      <th>1</th>\n",
              "      <td>Prof</td>\n",
              "      <td>A</td>\n",
              "      <td>12</td>\n",
              "      <td>6</td>\n",
              "      <td>Male</td>\n",
              "      <td>93000</td>\n",
              "    </tr>\n",
              "    <tr>\n",
              "      <th>2</th>\n",
              "      <td>Prof</td>\n",
              "      <td>A</td>\n",
              "      <td>23</td>\n",
              "      <td>20</td>\n",
              "      <td>Male</td>\n",
              "      <td>110515</td>\n",
              "    </tr>\n",
              "    <tr>\n",
              "      <th>3</th>\n",
              "      <td>Prof</td>\n",
              "      <td>A</td>\n",
              "      <td>40</td>\n",
              "      <td>31</td>\n",
              "      <td>Male</td>\n",
              "      <td>131205</td>\n",
              "    </tr>\n",
              "    <tr>\n",
              "      <th>4</th>\n",
              "      <td>Prof</td>\n",
              "      <td>B</td>\n",
              "      <td>20</td>\n",
              "      <td>18</td>\n",
              "      <td>Male</td>\n",
              "      <td>104800</td>\n",
              "    </tr>\n",
              "    <tr>\n",
              "      <th>6</th>\n",
              "      <td>AssocProf</td>\n",
              "      <td>A</td>\n",
              "      <td>20</td>\n",
              "      <td>17</td>\n",
              "      <td>Male</td>\n",
              "      <td>81285</td>\n",
              "    </tr>\n",
              "    <tr>\n",
              "      <th>12</th>\n",
              "      <td>AsstProf</td>\n",
              "      <td>B</td>\n",
              "      <td>1</td>\n",
              "      <td>0</td>\n",
              "      <td>Male</td>\n",
              "      <td>88000</td>\n",
              "    </tr>\n",
              "    <tr>\n",
              "      <th>16</th>\n",
              "      <td>AsstProf</td>\n",
              "      <td>B</td>\n",
              "      <td>8</td>\n",
              "      <td>3</td>\n",
              "      <td>Male</td>\n",
              "      <td>75044</td>\n",
              "    </tr>\n",
              "    <tr>\n",
              "      <th>17</th>\n",
              "      <td>AsstProf</td>\n",
              "      <td>B</td>\n",
              "      <td>4</td>\n",
              "      <td>0</td>\n",
              "      <td>Male</td>\n",
              "      <td>92000</td>\n",
              "    </tr>\n",
              "    <tr>\n",
              "      <th>20</th>\n",
              "      <td>AsstProf</td>\n",
              "      <td>B</td>\n",
              "      <td>4</td>\n",
              "      <td>4</td>\n",
              "      <td>Male</td>\n",
              "      <td>92000</td>\n",
              "    </tr>\n",
              "    <tr>\n",
              "      <th>22</th>\n",
              "      <td>AsstProf</td>\n",
              "      <td>A</td>\n",
              "      <td>4</td>\n",
              "      <td>2</td>\n",
              "      <td>Male</td>\n",
              "      <td>73000</td>\n",
              "    </tr>\n",
              "    <tr>\n",
              "      <th>30</th>\n",
              "      <td>AssocProf</td>\n",
              "      <td>B</td>\n",
              "      <td>9</td>\n",
              "      <td>7</td>\n",
              "      <td>Male</td>\n",
              "      <td>107008</td>\n",
              "    </tr>\n",
              "    <tr>\n",
              "      <th>34</th>\n",
              "      <td>AssocProf</td>\n",
              "      <td>B</td>\n",
              "      <td>12</td>\n",
              "      <td>8</td>\n",
              "      <td>Male</td>\n",
              "      <td>119800</td>\n",
              "    </tr>\n",
              "    <tr>\n",
              "      <th>41</th>\n",
              "      <td>AssocProf</td>\n",
              "      <td>A</td>\n",
              "      <td>13</td>\n",
              "      <td>8</td>\n",
              "      <td>Female</td>\n",
              "      <td>74830</td>\n",
              "    </tr>\n",
              "    <tr>\n",
              "      <th>47</th>\n",
              "      <td>AssocProf</td>\n",
              "      <td>B</td>\n",
              "      <td>11</td>\n",
              "      <td>11</td>\n",
              "      <td>Female</td>\n",
              "      <td>103613</td>\n",
              "    </tr>\n",
              "  </tbody>\n",
              "</table>\n",
              "</div>"
            ],
            "text/plain": [
              "         rank discipline  phd  service     sex  salary\n",
              "0        Prof          B   56       49    Male  186960\n",
              "1        Prof          A   12        6    Male   93000\n",
              "2        Prof          A   23       20    Male  110515\n",
              "3        Prof          A   40       31    Male  131205\n",
              "4        Prof          B   20       18    Male  104800\n",
              "6   AssocProf          A   20       17    Male   81285\n",
              "12   AsstProf          B    1        0    Male   88000\n",
              "16   AsstProf          B    8        3    Male   75044\n",
              "17   AsstProf          B    4        0    Male   92000\n",
              "20   AsstProf          B    4        4    Male   92000\n",
              "22   AsstProf          A    4        2    Male   73000\n",
              "30  AssocProf          B    9        7    Male  107008\n",
              "34  AssocProf          B   12        8    Male  119800\n",
              "41  AssocProf          A   13        8  Female   74830\n",
              "47  AssocProf          B   11       11  Female  103613"
            ]
          },
          "metadata": {
            "tags": []
          },
          "execution_count": 97
        }
      ]
    },
    {
      "cell_type": "code",
      "metadata": {
        "colab": {
          "base_uri": "https://localhost:8080/"
        },
        "id": "GkcvBvCTvdQG",
        "outputId": "8d5610ae-6fb4-4052-9f93-8b6e9125be43"
      },
      "source": [
        "grouped.ngroup()"
      ],
      "execution_count": 98,
      "outputs": [
        {
          "output_type": "execute_result",
          "data": {
            "text/plain": [
              "0     2\n",
              "1     2\n",
              "2     2\n",
              "3     2\n",
              "4     2\n",
              "     ..\n",
              "73    2\n",
              "74    0\n",
              "75    2\n",
              "76    2\n",
              "77    2\n",
              "Length: 78, dtype: int64"
            ]
          },
          "metadata": {
            "tags": []
          },
          "execution_count": 98
        }
      ]
    },
    {
      "cell_type": "code",
      "metadata": {
        "colab": {
          "base_uri": "https://localhost:8080/"
        },
        "id": "8CRwid5HvsOr",
        "outputId": "0e608ae2-2b68-434d-946b-4a844530b230"
      },
      "source": [
        "grouped.groups"
      ],
      "execution_count": 100,
      "outputs": [
        {
          "output_type": "execute_result",
          "data": {
            "text/plain": [
              "{'AssocProf': [6, 30, 34, 41, 47, 54, 56, 59, 61, 62, 64, 71, 74], 'AsstProf': [12, 16, 17, 20, 22, 23, 28, 38, 42, 43, 46, 50, 53, 55, 57, 60, 66, 68, 70], 'Prof': [0, 1, 2, 3, 4, 5, 7, 8, 9, 10, 11, 13, 14, 15, 18, 19, 21, 24, 25, 26, 27, 29, 31, 32, 33, 35, 36, 37, 39, 40, 44, 45, 48, 49, 51, 52, 58, 63, 65, 67, 69, 72, 73, 75, 76, 77]}"
            ]
          },
          "metadata": {
            "tags": []
          },
          "execution_count": 100
        }
      ]
    },
    {
      "cell_type": "code",
      "metadata": {
        "colab": {
          "base_uri": "https://localhost:8080/"
        },
        "id": "9pBj8-8-v3df",
        "outputId": "13b58056-5154-4f35-9c6a-5e115a679ee4"
      },
      "source": [
        "df.salary>12000"
      ],
      "execution_count": 101,
      "outputs": [
        {
          "output_type": "execute_result",
          "data": {
            "text/plain": [
              "0     True\n",
              "1     True\n",
              "2     True\n",
              "3     True\n",
              "4     True\n",
              "      ... \n",
              "73    True\n",
              "74    True\n",
              "75    True\n",
              "76    True\n",
              "77    True\n",
              "Name: salary, Length: 78, dtype: bool"
            ]
          },
          "metadata": {
            "tags": []
          },
          "execution_count": 101
        }
      ]
    },
    {
      "cell_type": "code",
      "metadata": {
        "colab": {
          "base_uri": "https://localhost:8080/",
          "height": 780
        },
        "id": "EDXc4VBXxFW7",
        "outputId": "3cee8d0c-a4f9-40c8-dd59-d3fdb1798151"
      },
      "source": [
        "df[df.salary>120000]"
      ],
      "execution_count": 102,
      "outputs": [
        {
          "output_type": "execute_result",
          "data": {
            "text/html": [
              "<div>\n",
              "<style scoped>\n",
              "    .dataframe tbody tr th:only-of-type {\n",
              "        vertical-align: middle;\n",
              "    }\n",
              "\n",
              "    .dataframe tbody tr th {\n",
              "        vertical-align: top;\n",
              "    }\n",
              "\n",
              "    .dataframe thead th {\n",
              "        text-align: right;\n",
              "    }\n",
              "</style>\n",
              "<table border=\"1\" class=\"dataframe\">\n",
              "  <thead>\n",
              "    <tr style=\"text-align: right;\">\n",
              "      <th></th>\n",
              "      <th>rank</th>\n",
              "      <th>discipline</th>\n",
              "      <th>phd</th>\n",
              "      <th>service</th>\n",
              "      <th>sex</th>\n",
              "      <th>salary</th>\n",
              "    </tr>\n",
              "  </thead>\n",
              "  <tbody>\n",
              "    <tr>\n",
              "      <th>0</th>\n",
              "      <td>Prof</td>\n",
              "      <td>B</td>\n",
              "      <td>56</td>\n",
              "      <td>49</td>\n",
              "      <td>Male</td>\n",
              "      <td>186960</td>\n",
              "    </tr>\n",
              "    <tr>\n",
              "      <th>3</th>\n",
              "      <td>Prof</td>\n",
              "      <td>A</td>\n",
              "      <td>40</td>\n",
              "      <td>31</td>\n",
              "      <td>Male</td>\n",
              "      <td>131205</td>\n",
              "    </tr>\n",
              "    <tr>\n",
              "      <th>5</th>\n",
              "      <td>Prof</td>\n",
              "      <td>A</td>\n",
              "      <td>20</td>\n",
              "      <td>20</td>\n",
              "      <td>Male</td>\n",
              "      <td>122400</td>\n",
              "    </tr>\n",
              "    <tr>\n",
              "      <th>7</th>\n",
              "      <td>Prof</td>\n",
              "      <td>A</td>\n",
              "      <td>18</td>\n",
              "      <td>18</td>\n",
              "      <td>Male</td>\n",
              "      <td>126300</td>\n",
              "    </tr>\n",
              "    <tr>\n",
              "      <th>10</th>\n",
              "      <td>Prof</td>\n",
              "      <td>B</td>\n",
              "      <td>39</td>\n",
              "      <td>33</td>\n",
              "      <td>Male</td>\n",
              "      <td>128250</td>\n",
              "    </tr>\n",
              "    <tr>\n",
              "      <th>11</th>\n",
              "      <td>Prof</td>\n",
              "      <td>B</td>\n",
              "      <td>23</td>\n",
              "      <td>23</td>\n",
              "      <td>Male</td>\n",
              "      <td>134778</td>\n",
              "    </tr>\n",
              "    <tr>\n",
              "      <th>13</th>\n",
              "      <td>Prof</td>\n",
              "      <td>B</td>\n",
              "      <td>35</td>\n",
              "      <td>33</td>\n",
              "      <td>Male</td>\n",
              "      <td>162200</td>\n",
              "    </tr>\n",
              "    <tr>\n",
              "      <th>14</th>\n",
              "      <td>Prof</td>\n",
              "      <td>B</td>\n",
              "      <td>25</td>\n",
              "      <td>19</td>\n",
              "      <td>Male</td>\n",
              "      <td>153750</td>\n",
              "    </tr>\n",
              "    <tr>\n",
              "      <th>15</th>\n",
              "      <td>Prof</td>\n",
              "      <td>B</td>\n",
              "      <td>17</td>\n",
              "      <td>3</td>\n",
              "      <td>Male</td>\n",
              "      <td>150480</td>\n",
              "    </tr>\n",
              "    <tr>\n",
              "      <th>19</th>\n",
              "      <td>Prof</td>\n",
              "      <td>A</td>\n",
              "      <td>29</td>\n",
              "      <td>27</td>\n",
              "      <td>Male</td>\n",
              "      <td>150500</td>\n",
              "    </tr>\n",
              "    <tr>\n",
              "      <th>26</th>\n",
              "      <td>Prof</td>\n",
              "      <td>A</td>\n",
              "      <td>38</td>\n",
              "      <td>19</td>\n",
              "      <td>Male</td>\n",
              "      <td>148750</td>\n",
              "    </tr>\n",
              "    <tr>\n",
              "      <th>27</th>\n",
              "      <td>Prof</td>\n",
              "      <td>A</td>\n",
              "      <td>45</td>\n",
              "      <td>43</td>\n",
              "      <td>Male</td>\n",
              "      <td>155865</td>\n",
              "    </tr>\n",
              "    <tr>\n",
              "      <th>29</th>\n",
              "      <td>Prof</td>\n",
              "      <td>B</td>\n",
              "      <td>21</td>\n",
              "      <td>20</td>\n",
              "      <td>Male</td>\n",
              "      <td>123683</td>\n",
              "    </tr>\n",
              "    <tr>\n",
              "      <th>31</th>\n",
              "      <td>Prof</td>\n",
              "      <td>B</td>\n",
              "      <td>22</td>\n",
              "      <td>21</td>\n",
              "      <td>Male</td>\n",
              "      <td>155750</td>\n",
              "    </tr>\n",
              "    <tr>\n",
              "      <th>35</th>\n",
              "      <td>Prof</td>\n",
              "      <td>B</td>\n",
              "      <td>28</td>\n",
              "      <td>23</td>\n",
              "      <td>Male</td>\n",
              "      <td>126933</td>\n",
              "    </tr>\n",
              "    <tr>\n",
              "      <th>36</th>\n",
              "      <td>Prof</td>\n",
              "      <td>B</td>\n",
              "      <td>45</td>\n",
              "      <td>45</td>\n",
              "      <td>Male</td>\n",
              "      <td>146856</td>\n",
              "    </tr>\n",
              "    <tr>\n",
              "      <th>39</th>\n",
              "      <td>Prof</td>\n",
              "      <td>B</td>\n",
              "      <td>18</td>\n",
              "      <td>18</td>\n",
              "      <td>Female</td>\n",
              "      <td>129000</td>\n",
              "    </tr>\n",
              "    <tr>\n",
              "      <th>40</th>\n",
              "      <td>Prof</td>\n",
              "      <td>A</td>\n",
              "      <td>39</td>\n",
              "      <td>36</td>\n",
              "      <td>Female</td>\n",
              "      <td>137000</td>\n",
              "    </tr>\n",
              "    <tr>\n",
              "      <th>44</th>\n",
              "      <td>Prof</td>\n",
              "      <td>B</td>\n",
              "      <td>23</td>\n",
              "      <td>19</td>\n",
              "      <td>Female</td>\n",
              "      <td>151768</td>\n",
              "    </tr>\n",
              "    <tr>\n",
              "      <th>45</th>\n",
              "      <td>Prof</td>\n",
              "      <td>B</td>\n",
              "      <td>25</td>\n",
              "      <td>25</td>\n",
              "      <td>Female</td>\n",
              "      <td>140096</td>\n",
              "    </tr>\n",
              "    <tr>\n",
              "      <th>49</th>\n",
              "      <td>Prof</td>\n",
              "      <td>B</td>\n",
              "      <td>17</td>\n",
              "      <td>18</td>\n",
              "      <td>Female</td>\n",
              "      <td>122960</td>\n",
              "    </tr>\n",
              "    <tr>\n",
              "      <th>51</th>\n",
              "      <td>Prof</td>\n",
              "      <td>B</td>\n",
              "      <td>20</td>\n",
              "      <td>14</td>\n",
              "      <td>Female</td>\n",
              "      <td>127512</td>\n",
              "    </tr>\n",
              "    <tr>\n",
              "      <th>58</th>\n",
              "      <td>Prof</td>\n",
              "      <td>B</td>\n",
              "      <td>36</td>\n",
              "      <td>26</td>\n",
              "      <td>Female</td>\n",
              "      <td>144651</td>\n",
              "    </tr>\n",
              "    <tr>\n",
              "      <th>72</th>\n",
              "      <td>Prof</td>\n",
              "      <td>B</td>\n",
              "      <td>24</td>\n",
              "      <td>15</td>\n",
              "      <td>Female</td>\n",
              "      <td>161101</td>\n",
              "    </tr>\n",
              "    <tr>\n",
              "      <th>75</th>\n",
              "      <td>Prof</td>\n",
              "      <td>B</td>\n",
              "      <td>17</td>\n",
              "      <td>17</td>\n",
              "      <td>Female</td>\n",
              "      <td>124312</td>\n",
              "    </tr>\n",
              "  </tbody>\n",
              "</table>\n",
              "</div>"
            ],
            "text/plain": [
              "    rank discipline  phd  service     sex  salary\n",
              "0   Prof          B   56       49    Male  186960\n",
              "3   Prof          A   40       31    Male  131205\n",
              "5   Prof          A   20       20    Male  122400\n",
              "7   Prof          A   18       18    Male  126300\n",
              "10  Prof          B   39       33    Male  128250\n",
              "11  Prof          B   23       23    Male  134778\n",
              "13  Prof          B   35       33    Male  162200\n",
              "14  Prof          B   25       19    Male  153750\n",
              "15  Prof          B   17        3    Male  150480\n",
              "19  Prof          A   29       27    Male  150500\n",
              "26  Prof          A   38       19    Male  148750\n",
              "27  Prof          A   45       43    Male  155865\n",
              "29  Prof          B   21       20    Male  123683\n",
              "31  Prof          B   22       21    Male  155750\n",
              "35  Prof          B   28       23    Male  126933\n",
              "36  Prof          B   45       45    Male  146856\n",
              "39  Prof          B   18       18  Female  129000\n",
              "40  Prof          A   39       36  Female  137000\n",
              "44  Prof          B   23       19  Female  151768\n",
              "45  Prof          B   25       25  Female  140096\n",
              "49  Prof          B   17       18  Female  122960\n",
              "51  Prof          B   20       14  Female  127512\n",
              "58  Prof          B   36       26  Female  144651\n",
              "72  Prof          B   24       15  Female  161101\n",
              "75  Prof          B   17       17  Female  124312"
            ]
          },
          "metadata": {
            "tags": []
          },
          "execution_count": 102
        }
      ]
    },
    {
      "cell_type": "code",
      "metadata": {
        "colab": {
          "base_uri": "https://localhost:8080/",
          "height": 1000
        },
        "id": "7jHWEiIXxP_e",
        "outputId": "aced9f18-d222-4118-91b0-c4b2f434a6f5"
      },
      "source": [
        "df[df.service>10]"
      ],
      "execution_count": 107,
      "outputs": [
        {
          "output_type": "execute_result",
          "data": {
            "text/html": [
              "<div>\n",
              "<style scoped>\n",
              "    .dataframe tbody tr th:only-of-type {\n",
              "        vertical-align: middle;\n",
              "    }\n",
              "\n",
              "    .dataframe tbody tr th {\n",
              "        vertical-align: top;\n",
              "    }\n",
              "\n",
              "    .dataframe thead th {\n",
              "        text-align: right;\n",
              "    }\n",
              "</style>\n",
              "<table border=\"1\" class=\"dataframe\">\n",
              "  <thead>\n",
              "    <tr style=\"text-align: right;\">\n",
              "      <th></th>\n",
              "      <th>rank</th>\n",
              "      <th>discipline</th>\n",
              "      <th>phd</th>\n",
              "      <th>service</th>\n",
              "      <th>sex</th>\n",
              "      <th>salary</th>\n",
              "    </tr>\n",
              "  </thead>\n",
              "  <tbody>\n",
              "    <tr>\n",
              "      <th>0</th>\n",
              "      <td>Prof</td>\n",
              "      <td>B</td>\n",
              "      <td>56</td>\n",
              "      <td>49</td>\n",
              "      <td>Male</td>\n",
              "      <td>186960</td>\n",
              "    </tr>\n",
              "    <tr>\n",
              "      <th>2</th>\n",
              "      <td>Prof</td>\n",
              "      <td>A</td>\n",
              "      <td>23</td>\n",
              "      <td>20</td>\n",
              "      <td>Male</td>\n",
              "      <td>110515</td>\n",
              "    </tr>\n",
              "    <tr>\n",
              "      <th>3</th>\n",
              "      <td>Prof</td>\n",
              "      <td>A</td>\n",
              "      <td>40</td>\n",
              "      <td>31</td>\n",
              "      <td>Male</td>\n",
              "      <td>131205</td>\n",
              "    </tr>\n",
              "    <tr>\n",
              "      <th>4</th>\n",
              "      <td>Prof</td>\n",
              "      <td>B</td>\n",
              "      <td>20</td>\n",
              "      <td>18</td>\n",
              "      <td>Male</td>\n",
              "      <td>104800</td>\n",
              "    </tr>\n",
              "    <tr>\n",
              "      <th>5</th>\n",
              "      <td>Prof</td>\n",
              "      <td>A</td>\n",
              "      <td>20</td>\n",
              "      <td>20</td>\n",
              "      <td>Male</td>\n",
              "      <td>122400</td>\n",
              "    </tr>\n",
              "    <tr>\n",
              "      <th>6</th>\n",
              "      <td>AssocProf</td>\n",
              "      <td>A</td>\n",
              "      <td>20</td>\n",
              "      <td>17</td>\n",
              "      <td>Male</td>\n",
              "      <td>81285</td>\n",
              "    </tr>\n",
              "    <tr>\n",
              "      <th>7</th>\n",
              "      <td>Prof</td>\n",
              "      <td>A</td>\n",
              "      <td>18</td>\n",
              "      <td>18</td>\n",
              "      <td>Male</td>\n",
              "      <td>126300</td>\n",
              "    </tr>\n",
              "    <tr>\n",
              "      <th>8</th>\n",
              "      <td>Prof</td>\n",
              "      <td>A</td>\n",
              "      <td>29</td>\n",
              "      <td>19</td>\n",
              "      <td>Male</td>\n",
              "      <td>94350</td>\n",
              "    </tr>\n",
              "    <tr>\n",
              "      <th>9</th>\n",
              "      <td>Prof</td>\n",
              "      <td>A</td>\n",
              "      <td>51</td>\n",
              "      <td>51</td>\n",
              "      <td>Male</td>\n",
              "      <td>57800</td>\n",
              "    </tr>\n",
              "    <tr>\n",
              "      <th>10</th>\n",
              "      <td>Prof</td>\n",
              "      <td>B</td>\n",
              "      <td>39</td>\n",
              "      <td>33</td>\n",
              "      <td>Male</td>\n",
              "      <td>128250</td>\n",
              "    </tr>\n",
              "    <tr>\n",
              "      <th>11</th>\n",
              "      <td>Prof</td>\n",
              "      <td>B</td>\n",
              "      <td>23</td>\n",
              "      <td>23</td>\n",
              "      <td>Male</td>\n",
              "      <td>134778</td>\n",
              "    </tr>\n",
              "    <tr>\n",
              "      <th>13</th>\n",
              "      <td>Prof</td>\n",
              "      <td>B</td>\n",
              "      <td>35</td>\n",
              "      <td>33</td>\n",
              "      <td>Male</td>\n",
              "      <td>162200</td>\n",
              "    </tr>\n",
              "    <tr>\n",
              "      <th>14</th>\n",
              "      <td>Prof</td>\n",
              "      <td>B</td>\n",
              "      <td>25</td>\n",
              "      <td>19</td>\n",
              "      <td>Male</td>\n",
              "      <td>153750</td>\n",
              "    </tr>\n",
              "    <tr>\n",
              "      <th>19</th>\n",
              "      <td>Prof</td>\n",
              "      <td>A</td>\n",
              "      <td>29</td>\n",
              "      <td>27</td>\n",
              "      <td>Male</td>\n",
              "      <td>150500</td>\n",
              "    </tr>\n",
              "    <tr>\n",
              "      <th>21</th>\n",
              "      <td>Prof</td>\n",
              "      <td>A</td>\n",
              "      <td>33</td>\n",
              "      <td>30</td>\n",
              "      <td>Male</td>\n",
              "      <td>103106</td>\n",
              "    </tr>\n",
              "    <tr>\n",
              "      <th>24</th>\n",
              "      <td>Prof</td>\n",
              "      <td>A</td>\n",
              "      <td>30</td>\n",
              "      <td>23</td>\n",
              "      <td>Male</td>\n",
              "      <td>91100</td>\n",
              "    </tr>\n",
              "    <tr>\n",
              "      <th>25</th>\n",
              "      <td>Prof</td>\n",
              "      <td>B</td>\n",
              "      <td>35</td>\n",
              "      <td>31</td>\n",
              "      <td>Male</td>\n",
              "      <td>99418</td>\n",
              "    </tr>\n",
              "    <tr>\n",
              "      <th>26</th>\n",
              "      <td>Prof</td>\n",
              "      <td>A</td>\n",
              "      <td>38</td>\n",
              "      <td>19</td>\n",
              "      <td>Male</td>\n",
              "      <td>148750</td>\n",
              "    </tr>\n",
              "    <tr>\n",
              "      <th>27</th>\n",
              "      <td>Prof</td>\n",
              "      <td>A</td>\n",
              "      <td>45</td>\n",
              "      <td>43</td>\n",
              "      <td>Male</td>\n",
              "      <td>155865</td>\n",
              "    </tr>\n",
              "    <tr>\n",
              "      <th>29</th>\n",
              "      <td>Prof</td>\n",
              "      <td>B</td>\n",
              "      <td>21</td>\n",
              "      <td>20</td>\n",
              "      <td>Male</td>\n",
              "      <td>123683</td>\n",
              "    </tr>\n",
              "    <tr>\n",
              "      <th>31</th>\n",
              "      <td>Prof</td>\n",
              "      <td>B</td>\n",
              "      <td>22</td>\n",
              "      <td>21</td>\n",
              "      <td>Male</td>\n",
              "      <td>155750</td>\n",
              "    </tr>\n",
              "    <tr>\n",
              "      <th>32</th>\n",
              "      <td>Prof</td>\n",
              "      <td>A</td>\n",
              "      <td>27</td>\n",
              "      <td>19</td>\n",
              "      <td>Male</td>\n",
              "      <td>103275</td>\n",
              "    </tr>\n",
              "    <tr>\n",
              "      <th>33</th>\n",
              "      <td>Prof</td>\n",
              "      <td>B</td>\n",
              "      <td>18</td>\n",
              "      <td>18</td>\n",
              "      <td>Male</td>\n",
              "      <td>120000</td>\n",
              "    </tr>\n",
              "    <tr>\n",
              "      <th>35</th>\n",
              "      <td>Prof</td>\n",
              "      <td>B</td>\n",
              "      <td>28</td>\n",
              "      <td>23</td>\n",
              "      <td>Male</td>\n",
              "      <td>126933</td>\n",
              "    </tr>\n",
              "    <tr>\n",
              "      <th>36</th>\n",
              "      <td>Prof</td>\n",
              "      <td>B</td>\n",
              "      <td>45</td>\n",
              "      <td>45</td>\n",
              "      <td>Male</td>\n",
              "      <td>146856</td>\n",
              "    </tr>\n",
              "    <tr>\n",
              "      <th>39</th>\n",
              "      <td>Prof</td>\n",
              "      <td>B</td>\n",
              "      <td>18</td>\n",
              "      <td>18</td>\n",
              "      <td>Female</td>\n",
              "      <td>129000</td>\n",
              "    </tr>\n",
              "    <tr>\n",
              "      <th>40</th>\n",
              "      <td>Prof</td>\n",
              "      <td>A</td>\n",
              "      <td>39</td>\n",
              "      <td>36</td>\n",
              "      <td>Female</td>\n",
              "      <td>137000</td>\n",
              "    </tr>\n",
              "    <tr>\n",
              "      <th>44</th>\n",
              "      <td>Prof</td>\n",
              "      <td>B</td>\n",
              "      <td>23</td>\n",
              "      <td>19</td>\n",
              "      <td>Female</td>\n",
              "      <td>151768</td>\n",
              "    </tr>\n",
              "    <tr>\n",
              "      <th>45</th>\n",
              "      <td>Prof</td>\n",
              "      <td>B</td>\n",
              "      <td>25</td>\n",
              "      <td>25</td>\n",
              "      <td>Female</td>\n",
              "      <td>140096</td>\n",
              "    </tr>\n",
              "    <tr>\n",
              "      <th>47</th>\n",
              "      <td>AssocProf</td>\n",
              "      <td>B</td>\n",
              "      <td>11</td>\n",
              "      <td>11</td>\n",
              "      <td>Female</td>\n",
              "      <td>103613</td>\n",
              "    </tr>\n",
              "    <tr>\n",
              "      <th>48</th>\n",
              "      <td>Prof</td>\n",
              "      <td>B</td>\n",
              "      <td>17</td>\n",
              "      <td>17</td>\n",
              "      <td>Female</td>\n",
              "      <td>111512</td>\n",
              "    </tr>\n",
              "    <tr>\n",
              "      <th>49</th>\n",
              "      <td>Prof</td>\n",
              "      <td>B</td>\n",
              "      <td>17</td>\n",
              "      <td>18</td>\n",
              "      <td>Female</td>\n",
              "      <td>122960</td>\n",
              "    </tr>\n",
              "    <tr>\n",
              "      <th>51</th>\n",
              "      <td>Prof</td>\n",
              "      <td>B</td>\n",
              "      <td>20</td>\n",
              "      <td>14</td>\n",
              "      <td>Female</td>\n",
              "      <td>127512</td>\n",
              "    </tr>\n",
              "    <tr>\n",
              "      <th>54</th>\n",
              "      <td>AssocProf</td>\n",
              "      <td>A</td>\n",
              "      <td>25</td>\n",
              "      <td>22</td>\n",
              "      <td>Female</td>\n",
              "      <td>62884</td>\n",
              "    </tr>\n",
              "    <tr>\n",
              "      <th>58</th>\n",
              "      <td>Prof</td>\n",
              "      <td>B</td>\n",
              "      <td>36</td>\n",
              "      <td>26</td>\n",
              "      <td>Female</td>\n",
              "      <td>144651</td>\n",
              "    </tr>\n",
              "    <tr>\n",
              "      <th>63</th>\n",
              "      <td>Prof</td>\n",
              "      <td>A</td>\n",
              "      <td>29</td>\n",
              "      <td>27</td>\n",
              "      <td>Female</td>\n",
              "      <td>91000</td>\n",
              "    </tr>\n",
              "    <tr>\n",
              "      <th>64</th>\n",
              "      <td>AssocProf</td>\n",
              "      <td>A</td>\n",
              "      <td>26</td>\n",
              "      <td>24</td>\n",
              "      <td>Female</td>\n",
              "      <td>73300</td>\n",
              "    </tr>\n",
              "    <tr>\n",
              "      <th>65</th>\n",
              "      <td>Prof</td>\n",
              "      <td>A</td>\n",
              "      <td>36</td>\n",
              "      <td>19</td>\n",
              "      <td>Female</td>\n",
              "      <td>117555</td>\n",
              "    </tr>\n",
              "    <tr>\n",
              "      <th>67</th>\n",
              "      <td>Prof</td>\n",
              "      <td>A</td>\n",
              "      <td>17</td>\n",
              "      <td>11</td>\n",
              "      <td>Female</td>\n",
              "      <td>90450</td>\n",
              "    </tr>\n",
              "    <tr>\n",
              "      <th>72</th>\n",
              "      <td>Prof</td>\n",
              "      <td>B</td>\n",
              "      <td>24</td>\n",
              "      <td>15</td>\n",
              "      <td>Female</td>\n",
              "      <td>161101</td>\n",
              "    </tr>\n",
              "    <tr>\n",
              "      <th>75</th>\n",
              "      <td>Prof</td>\n",
              "      <td>B</td>\n",
              "      <td>17</td>\n",
              "      <td>17</td>\n",
              "      <td>Female</td>\n",
              "      <td>124312</td>\n",
              "    </tr>\n",
              "    <tr>\n",
              "      <th>76</th>\n",
              "      <td>Prof</td>\n",
              "      <td>A</td>\n",
              "      <td>28</td>\n",
              "      <td>14</td>\n",
              "      <td>Female</td>\n",
              "      <td>109954</td>\n",
              "    </tr>\n",
              "    <tr>\n",
              "      <th>77</th>\n",
              "      <td>Prof</td>\n",
              "      <td>A</td>\n",
              "      <td>23</td>\n",
              "      <td>15</td>\n",
              "      <td>Female</td>\n",
              "      <td>109646</td>\n",
              "    </tr>\n",
              "  </tbody>\n",
              "</table>\n",
              "</div>"
            ],
            "text/plain": [
              "         rank discipline  phd  service     sex  salary\n",
              "0        Prof          B   56       49    Male  186960\n",
              "2        Prof          A   23       20    Male  110515\n",
              "3        Prof          A   40       31    Male  131205\n",
              "4        Prof          B   20       18    Male  104800\n",
              "5        Prof          A   20       20    Male  122400\n",
              "6   AssocProf          A   20       17    Male   81285\n",
              "7        Prof          A   18       18    Male  126300\n",
              "8        Prof          A   29       19    Male   94350\n",
              "9        Prof          A   51       51    Male   57800\n",
              "10       Prof          B   39       33    Male  128250\n",
              "11       Prof          B   23       23    Male  134778\n",
              "13       Prof          B   35       33    Male  162200\n",
              "14       Prof          B   25       19    Male  153750\n",
              "19       Prof          A   29       27    Male  150500\n",
              "21       Prof          A   33       30    Male  103106\n",
              "24       Prof          A   30       23    Male   91100\n",
              "25       Prof          B   35       31    Male   99418\n",
              "26       Prof          A   38       19    Male  148750\n",
              "27       Prof          A   45       43    Male  155865\n",
              "29       Prof          B   21       20    Male  123683\n",
              "31       Prof          B   22       21    Male  155750\n",
              "32       Prof          A   27       19    Male  103275\n",
              "33       Prof          B   18       18    Male  120000\n",
              "35       Prof          B   28       23    Male  126933\n",
              "36       Prof          B   45       45    Male  146856\n",
              "39       Prof          B   18       18  Female  129000\n",
              "40       Prof          A   39       36  Female  137000\n",
              "44       Prof          B   23       19  Female  151768\n",
              "45       Prof          B   25       25  Female  140096\n",
              "47  AssocProf          B   11       11  Female  103613\n",
              "48       Prof          B   17       17  Female  111512\n",
              "49       Prof          B   17       18  Female  122960\n",
              "51       Prof          B   20       14  Female  127512\n",
              "54  AssocProf          A   25       22  Female   62884\n",
              "58       Prof          B   36       26  Female  144651\n",
              "63       Prof          A   29       27  Female   91000\n",
              "64  AssocProf          A   26       24  Female   73300\n",
              "65       Prof          A   36       19  Female  117555\n",
              "67       Prof          A   17       11  Female   90450\n",
              "72       Prof          B   24       15  Female  161101\n",
              "75       Prof          B   17       17  Female  124312\n",
              "76       Prof          A   28       14  Female  109954\n",
              "77       Prof          A   23       15  Female  109646"
            ]
          },
          "metadata": {
            "tags": []
          },
          "execution_count": 107
        }
      ]
    },
    {
      "cell_type": "code",
      "metadata": {
        "id": "TTQ9x0j4xyEC"
      },
      "source": [
        "group = df[df['sex']=='Female'] "
      ],
      "execution_count": 114,
      "outputs": []
    },
    {
      "cell_type": "code",
      "metadata": {
        "colab": {
          "base_uri": "https://localhost:8080/",
          "height": 611
        },
        "id": "3fcLcAmKyfcr",
        "outputId": "80355828-e3bd-4798-c60d-ff6a87909d6c"
      },
      "source": [
        "group[df.service>10]"
      ],
      "execution_count": 119,
      "outputs": [
        {
          "output_type": "stream",
          "text": [
            "/usr/local/lib/python3.6/dist-packages/ipykernel_launcher.py:1: UserWarning: Boolean Series key will be reindexed to match DataFrame index.\n",
            "  \"\"\"Entry point for launching an IPython kernel.\n"
          ],
          "name": "stderr"
        },
        {
          "output_type": "execute_result",
          "data": {
            "text/html": [
              "<div>\n",
              "<style scoped>\n",
              "    .dataframe tbody tr th:only-of-type {\n",
              "        vertical-align: middle;\n",
              "    }\n",
              "\n",
              "    .dataframe tbody tr th {\n",
              "        vertical-align: top;\n",
              "    }\n",
              "\n",
              "    .dataframe thead th {\n",
              "        text-align: right;\n",
              "    }\n",
              "</style>\n",
              "<table border=\"1\" class=\"dataframe\">\n",
              "  <thead>\n",
              "    <tr style=\"text-align: right;\">\n",
              "      <th></th>\n",
              "      <th>rank</th>\n",
              "      <th>discipline</th>\n",
              "      <th>phd</th>\n",
              "      <th>service</th>\n",
              "      <th>sex</th>\n",
              "      <th>salary</th>\n",
              "    </tr>\n",
              "  </thead>\n",
              "  <tbody>\n",
              "    <tr>\n",
              "      <th>39</th>\n",
              "      <td>Prof</td>\n",
              "      <td>B</td>\n",
              "      <td>18</td>\n",
              "      <td>18</td>\n",
              "      <td>Female</td>\n",
              "      <td>129000</td>\n",
              "    </tr>\n",
              "    <tr>\n",
              "      <th>40</th>\n",
              "      <td>Prof</td>\n",
              "      <td>A</td>\n",
              "      <td>39</td>\n",
              "      <td>36</td>\n",
              "      <td>Female</td>\n",
              "      <td>137000</td>\n",
              "    </tr>\n",
              "    <tr>\n",
              "      <th>44</th>\n",
              "      <td>Prof</td>\n",
              "      <td>B</td>\n",
              "      <td>23</td>\n",
              "      <td>19</td>\n",
              "      <td>Female</td>\n",
              "      <td>151768</td>\n",
              "    </tr>\n",
              "    <tr>\n",
              "      <th>45</th>\n",
              "      <td>Prof</td>\n",
              "      <td>B</td>\n",
              "      <td>25</td>\n",
              "      <td>25</td>\n",
              "      <td>Female</td>\n",
              "      <td>140096</td>\n",
              "    </tr>\n",
              "    <tr>\n",
              "      <th>47</th>\n",
              "      <td>AssocProf</td>\n",
              "      <td>B</td>\n",
              "      <td>11</td>\n",
              "      <td>11</td>\n",
              "      <td>Female</td>\n",
              "      <td>103613</td>\n",
              "    </tr>\n",
              "    <tr>\n",
              "      <th>48</th>\n",
              "      <td>Prof</td>\n",
              "      <td>B</td>\n",
              "      <td>17</td>\n",
              "      <td>17</td>\n",
              "      <td>Female</td>\n",
              "      <td>111512</td>\n",
              "    </tr>\n",
              "    <tr>\n",
              "      <th>49</th>\n",
              "      <td>Prof</td>\n",
              "      <td>B</td>\n",
              "      <td>17</td>\n",
              "      <td>18</td>\n",
              "      <td>Female</td>\n",
              "      <td>122960</td>\n",
              "    </tr>\n",
              "    <tr>\n",
              "      <th>51</th>\n",
              "      <td>Prof</td>\n",
              "      <td>B</td>\n",
              "      <td>20</td>\n",
              "      <td>14</td>\n",
              "      <td>Female</td>\n",
              "      <td>127512</td>\n",
              "    </tr>\n",
              "    <tr>\n",
              "      <th>54</th>\n",
              "      <td>AssocProf</td>\n",
              "      <td>A</td>\n",
              "      <td>25</td>\n",
              "      <td>22</td>\n",
              "      <td>Female</td>\n",
              "      <td>62884</td>\n",
              "    </tr>\n",
              "    <tr>\n",
              "      <th>58</th>\n",
              "      <td>Prof</td>\n",
              "      <td>B</td>\n",
              "      <td>36</td>\n",
              "      <td>26</td>\n",
              "      <td>Female</td>\n",
              "      <td>144651</td>\n",
              "    </tr>\n",
              "    <tr>\n",
              "      <th>63</th>\n",
              "      <td>Prof</td>\n",
              "      <td>A</td>\n",
              "      <td>29</td>\n",
              "      <td>27</td>\n",
              "      <td>Female</td>\n",
              "      <td>91000</td>\n",
              "    </tr>\n",
              "    <tr>\n",
              "      <th>64</th>\n",
              "      <td>AssocProf</td>\n",
              "      <td>A</td>\n",
              "      <td>26</td>\n",
              "      <td>24</td>\n",
              "      <td>Female</td>\n",
              "      <td>73300</td>\n",
              "    </tr>\n",
              "    <tr>\n",
              "      <th>65</th>\n",
              "      <td>Prof</td>\n",
              "      <td>A</td>\n",
              "      <td>36</td>\n",
              "      <td>19</td>\n",
              "      <td>Female</td>\n",
              "      <td>117555</td>\n",
              "    </tr>\n",
              "    <tr>\n",
              "      <th>67</th>\n",
              "      <td>Prof</td>\n",
              "      <td>A</td>\n",
              "      <td>17</td>\n",
              "      <td>11</td>\n",
              "      <td>Female</td>\n",
              "      <td>90450</td>\n",
              "    </tr>\n",
              "    <tr>\n",
              "      <th>72</th>\n",
              "      <td>Prof</td>\n",
              "      <td>B</td>\n",
              "      <td>24</td>\n",
              "      <td>15</td>\n",
              "      <td>Female</td>\n",
              "      <td>161101</td>\n",
              "    </tr>\n",
              "    <tr>\n",
              "      <th>75</th>\n",
              "      <td>Prof</td>\n",
              "      <td>B</td>\n",
              "      <td>17</td>\n",
              "      <td>17</td>\n",
              "      <td>Female</td>\n",
              "      <td>124312</td>\n",
              "    </tr>\n",
              "    <tr>\n",
              "      <th>76</th>\n",
              "      <td>Prof</td>\n",
              "      <td>A</td>\n",
              "      <td>28</td>\n",
              "      <td>14</td>\n",
              "      <td>Female</td>\n",
              "      <td>109954</td>\n",
              "    </tr>\n",
              "    <tr>\n",
              "      <th>77</th>\n",
              "      <td>Prof</td>\n",
              "      <td>A</td>\n",
              "      <td>23</td>\n",
              "      <td>15</td>\n",
              "      <td>Female</td>\n",
              "      <td>109646</td>\n",
              "    </tr>\n",
              "  </tbody>\n",
              "</table>\n",
              "</div>"
            ],
            "text/plain": [
              "         rank discipline  phd  service     sex  salary\n",
              "39       Prof          B   18       18  Female  129000\n",
              "40       Prof          A   39       36  Female  137000\n",
              "44       Prof          B   23       19  Female  151768\n",
              "45       Prof          B   25       25  Female  140096\n",
              "47  AssocProf          B   11       11  Female  103613\n",
              "48       Prof          B   17       17  Female  111512\n",
              "49       Prof          B   17       18  Female  122960\n",
              "51       Prof          B   20       14  Female  127512\n",
              "54  AssocProf          A   25       22  Female   62884\n",
              "58       Prof          B   36       26  Female  144651\n",
              "63       Prof          A   29       27  Female   91000\n",
              "64  AssocProf          A   26       24  Female   73300\n",
              "65       Prof          A   36       19  Female  117555\n",
              "67       Prof          A   17       11  Female   90450\n",
              "72       Prof          B   24       15  Female  161101\n",
              "75       Prof          B   17       17  Female  124312\n",
              "76       Prof          A   28       14  Female  109954\n",
              "77       Prof          A   23       15  Female  109646"
            ]
          },
          "metadata": {
            "tags": []
          },
          "execution_count": 119
        }
      ]
    },
    {
      "cell_type": "code",
      "metadata": {
        "colab": {
          "base_uri": "https://localhost:8080/",
          "height": 575
        },
        "id": "KFjyndidywRj",
        "outputId": "dcca6c36-89ff-4d61-eb6b-51a69f694d60"
      },
      "source": [
        "df[(df.sex =='Female') & (df.service>10)]"
      ],
      "execution_count": 121,
      "outputs": [
        {
          "output_type": "execute_result",
          "data": {
            "text/html": [
              "<div>\n",
              "<style scoped>\n",
              "    .dataframe tbody tr th:only-of-type {\n",
              "        vertical-align: middle;\n",
              "    }\n",
              "\n",
              "    .dataframe tbody tr th {\n",
              "        vertical-align: top;\n",
              "    }\n",
              "\n",
              "    .dataframe thead th {\n",
              "        text-align: right;\n",
              "    }\n",
              "</style>\n",
              "<table border=\"1\" class=\"dataframe\">\n",
              "  <thead>\n",
              "    <tr style=\"text-align: right;\">\n",
              "      <th></th>\n",
              "      <th>rank</th>\n",
              "      <th>discipline</th>\n",
              "      <th>phd</th>\n",
              "      <th>service</th>\n",
              "      <th>sex</th>\n",
              "      <th>salary</th>\n",
              "    </tr>\n",
              "  </thead>\n",
              "  <tbody>\n",
              "    <tr>\n",
              "      <th>39</th>\n",
              "      <td>Prof</td>\n",
              "      <td>B</td>\n",
              "      <td>18</td>\n",
              "      <td>18</td>\n",
              "      <td>Female</td>\n",
              "      <td>129000</td>\n",
              "    </tr>\n",
              "    <tr>\n",
              "      <th>40</th>\n",
              "      <td>Prof</td>\n",
              "      <td>A</td>\n",
              "      <td>39</td>\n",
              "      <td>36</td>\n",
              "      <td>Female</td>\n",
              "      <td>137000</td>\n",
              "    </tr>\n",
              "    <tr>\n",
              "      <th>44</th>\n",
              "      <td>Prof</td>\n",
              "      <td>B</td>\n",
              "      <td>23</td>\n",
              "      <td>19</td>\n",
              "      <td>Female</td>\n",
              "      <td>151768</td>\n",
              "    </tr>\n",
              "    <tr>\n",
              "      <th>45</th>\n",
              "      <td>Prof</td>\n",
              "      <td>B</td>\n",
              "      <td>25</td>\n",
              "      <td>25</td>\n",
              "      <td>Female</td>\n",
              "      <td>140096</td>\n",
              "    </tr>\n",
              "    <tr>\n",
              "      <th>47</th>\n",
              "      <td>AssocProf</td>\n",
              "      <td>B</td>\n",
              "      <td>11</td>\n",
              "      <td>11</td>\n",
              "      <td>Female</td>\n",
              "      <td>103613</td>\n",
              "    </tr>\n",
              "    <tr>\n",
              "      <th>48</th>\n",
              "      <td>Prof</td>\n",
              "      <td>B</td>\n",
              "      <td>17</td>\n",
              "      <td>17</td>\n",
              "      <td>Female</td>\n",
              "      <td>111512</td>\n",
              "    </tr>\n",
              "    <tr>\n",
              "      <th>49</th>\n",
              "      <td>Prof</td>\n",
              "      <td>B</td>\n",
              "      <td>17</td>\n",
              "      <td>18</td>\n",
              "      <td>Female</td>\n",
              "      <td>122960</td>\n",
              "    </tr>\n",
              "    <tr>\n",
              "      <th>51</th>\n",
              "      <td>Prof</td>\n",
              "      <td>B</td>\n",
              "      <td>20</td>\n",
              "      <td>14</td>\n",
              "      <td>Female</td>\n",
              "      <td>127512</td>\n",
              "    </tr>\n",
              "    <tr>\n",
              "      <th>54</th>\n",
              "      <td>AssocProf</td>\n",
              "      <td>A</td>\n",
              "      <td>25</td>\n",
              "      <td>22</td>\n",
              "      <td>Female</td>\n",
              "      <td>62884</td>\n",
              "    </tr>\n",
              "    <tr>\n",
              "      <th>58</th>\n",
              "      <td>Prof</td>\n",
              "      <td>B</td>\n",
              "      <td>36</td>\n",
              "      <td>26</td>\n",
              "      <td>Female</td>\n",
              "      <td>144651</td>\n",
              "    </tr>\n",
              "    <tr>\n",
              "      <th>63</th>\n",
              "      <td>Prof</td>\n",
              "      <td>A</td>\n",
              "      <td>29</td>\n",
              "      <td>27</td>\n",
              "      <td>Female</td>\n",
              "      <td>91000</td>\n",
              "    </tr>\n",
              "    <tr>\n",
              "      <th>64</th>\n",
              "      <td>AssocProf</td>\n",
              "      <td>A</td>\n",
              "      <td>26</td>\n",
              "      <td>24</td>\n",
              "      <td>Female</td>\n",
              "      <td>73300</td>\n",
              "    </tr>\n",
              "    <tr>\n",
              "      <th>65</th>\n",
              "      <td>Prof</td>\n",
              "      <td>A</td>\n",
              "      <td>36</td>\n",
              "      <td>19</td>\n",
              "      <td>Female</td>\n",
              "      <td>117555</td>\n",
              "    </tr>\n",
              "    <tr>\n",
              "      <th>67</th>\n",
              "      <td>Prof</td>\n",
              "      <td>A</td>\n",
              "      <td>17</td>\n",
              "      <td>11</td>\n",
              "      <td>Female</td>\n",
              "      <td>90450</td>\n",
              "    </tr>\n",
              "    <tr>\n",
              "      <th>72</th>\n",
              "      <td>Prof</td>\n",
              "      <td>B</td>\n",
              "      <td>24</td>\n",
              "      <td>15</td>\n",
              "      <td>Female</td>\n",
              "      <td>161101</td>\n",
              "    </tr>\n",
              "    <tr>\n",
              "      <th>75</th>\n",
              "      <td>Prof</td>\n",
              "      <td>B</td>\n",
              "      <td>17</td>\n",
              "      <td>17</td>\n",
              "      <td>Female</td>\n",
              "      <td>124312</td>\n",
              "    </tr>\n",
              "    <tr>\n",
              "      <th>76</th>\n",
              "      <td>Prof</td>\n",
              "      <td>A</td>\n",
              "      <td>28</td>\n",
              "      <td>14</td>\n",
              "      <td>Female</td>\n",
              "      <td>109954</td>\n",
              "    </tr>\n",
              "    <tr>\n",
              "      <th>77</th>\n",
              "      <td>Prof</td>\n",
              "      <td>A</td>\n",
              "      <td>23</td>\n",
              "      <td>15</td>\n",
              "      <td>Female</td>\n",
              "      <td>109646</td>\n",
              "    </tr>\n",
              "  </tbody>\n",
              "</table>\n",
              "</div>"
            ],
            "text/plain": [
              "         rank discipline  phd  service     sex  salary\n",
              "39       Prof          B   18       18  Female  129000\n",
              "40       Prof          A   39       36  Female  137000\n",
              "44       Prof          B   23       19  Female  151768\n",
              "45       Prof          B   25       25  Female  140096\n",
              "47  AssocProf          B   11       11  Female  103613\n",
              "48       Prof          B   17       17  Female  111512\n",
              "49       Prof          B   17       18  Female  122960\n",
              "51       Prof          B   20       14  Female  127512\n",
              "54  AssocProf          A   25       22  Female   62884\n",
              "58       Prof          B   36       26  Female  144651\n",
              "63       Prof          A   29       27  Female   91000\n",
              "64  AssocProf          A   26       24  Female   73300\n",
              "65       Prof          A   36       19  Female  117555\n",
              "67       Prof          A   17       11  Female   90450\n",
              "72       Prof          B   24       15  Female  161101\n",
              "75       Prof          B   17       17  Female  124312\n",
              "76       Prof          A   28       14  Female  109954\n",
              "77       Prof          A   23       15  Female  109646"
            ]
          },
          "metadata": {
            "tags": []
          },
          "execution_count": 121
        }
      ]
    },
    {
      "cell_type": "code",
      "metadata": {
        "colab": {
          "base_uri": "https://localhost:8080/",
          "height": 135
        },
        "id": "0Vl4IrPG0Ofw",
        "outputId": "f239d620-a4f3-425a-d79f-86242d8d3585"
      },
      "source": [
        "df.iloc[1:4, 0:3]"
      ],
      "execution_count": 122,
      "outputs": [
        {
          "output_type": "execute_result",
          "data": {
            "text/html": [
              "<div>\n",
              "<style scoped>\n",
              "    .dataframe tbody tr th:only-of-type {\n",
              "        vertical-align: middle;\n",
              "    }\n",
              "\n",
              "    .dataframe tbody tr th {\n",
              "        vertical-align: top;\n",
              "    }\n",
              "\n",
              "    .dataframe thead th {\n",
              "        text-align: right;\n",
              "    }\n",
              "</style>\n",
              "<table border=\"1\" class=\"dataframe\">\n",
              "  <thead>\n",
              "    <tr style=\"text-align: right;\">\n",
              "      <th></th>\n",
              "      <th>rank</th>\n",
              "      <th>discipline</th>\n",
              "      <th>phd</th>\n",
              "    </tr>\n",
              "  </thead>\n",
              "  <tbody>\n",
              "    <tr>\n",
              "      <th>1</th>\n",
              "      <td>Prof</td>\n",
              "      <td>A</td>\n",
              "      <td>12</td>\n",
              "    </tr>\n",
              "    <tr>\n",
              "      <th>2</th>\n",
              "      <td>Prof</td>\n",
              "      <td>A</td>\n",
              "      <td>23</td>\n",
              "    </tr>\n",
              "    <tr>\n",
              "      <th>3</th>\n",
              "      <td>Prof</td>\n",
              "      <td>A</td>\n",
              "      <td>40</td>\n",
              "    </tr>\n",
              "  </tbody>\n",
              "</table>\n",
              "</div>"
            ],
            "text/plain": [
              "   rank discipline  phd\n",
              "1  Prof          A   12\n",
              "2  Prof          A   23\n",
              "3  Prof          A   40"
            ]
          },
          "metadata": {
            "tags": []
          },
          "execution_count": 122
        }
      ]
    },
    {
      "cell_type": "code",
      "metadata": {
        "colab": {
          "base_uri": "https://localhost:8080/",
          "height": 340
        },
        "id": "H9iWYRE86-tD",
        "outputId": "0d146fcd-17ef-4f2d-936d-92bce3e7bf22"
      },
      "source": [
        "df.iloc[0:10,0:3]"
      ],
      "execution_count": 123,
      "outputs": [
        {
          "output_type": "execute_result",
          "data": {
            "text/html": [
              "<div>\n",
              "<style scoped>\n",
              "    .dataframe tbody tr th:only-of-type {\n",
              "        vertical-align: middle;\n",
              "    }\n",
              "\n",
              "    .dataframe tbody tr th {\n",
              "        vertical-align: top;\n",
              "    }\n",
              "\n",
              "    .dataframe thead th {\n",
              "        text-align: right;\n",
              "    }\n",
              "</style>\n",
              "<table border=\"1\" class=\"dataframe\">\n",
              "  <thead>\n",
              "    <tr style=\"text-align: right;\">\n",
              "      <th></th>\n",
              "      <th>rank</th>\n",
              "      <th>discipline</th>\n",
              "      <th>phd</th>\n",
              "    </tr>\n",
              "  </thead>\n",
              "  <tbody>\n",
              "    <tr>\n",
              "      <th>0</th>\n",
              "      <td>Prof</td>\n",
              "      <td>B</td>\n",
              "      <td>56</td>\n",
              "    </tr>\n",
              "    <tr>\n",
              "      <th>1</th>\n",
              "      <td>Prof</td>\n",
              "      <td>A</td>\n",
              "      <td>12</td>\n",
              "    </tr>\n",
              "    <tr>\n",
              "      <th>2</th>\n",
              "      <td>Prof</td>\n",
              "      <td>A</td>\n",
              "      <td>23</td>\n",
              "    </tr>\n",
              "    <tr>\n",
              "      <th>3</th>\n",
              "      <td>Prof</td>\n",
              "      <td>A</td>\n",
              "      <td>40</td>\n",
              "    </tr>\n",
              "    <tr>\n",
              "      <th>4</th>\n",
              "      <td>Prof</td>\n",
              "      <td>B</td>\n",
              "      <td>20</td>\n",
              "    </tr>\n",
              "    <tr>\n",
              "      <th>5</th>\n",
              "      <td>Prof</td>\n",
              "      <td>A</td>\n",
              "      <td>20</td>\n",
              "    </tr>\n",
              "    <tr>\n",
              "      <th>6</th>\n",
              "      <td>AssocProf</td>\n",
              "      <td>A</td>\n",
              "      <td>20</td>\n",
              "    </tr>\n",
              "    <tr>\n",
              "      <th>7</th>\n",
              "      <td>Prof</td>\n",
              "      <td>A</td>\n",
              "      <td>18</td>\n",
              "    </tr>\n",
              "    <tr>\n",
              "      <th>8</th>\n",
              "      <td>Prof</td>\n",
              "      <td>A</td>\n",
              "      <td>29</td>\n",
              "    </tr>\n",
              "    <tr>\n",
              "      <th>9</th>\n",
              "      <td>Prof</td>\n",
              "      <td>A</td>\n",
              "      <td>51</td>\n",
              "    </tr>\n",
              "  </tbody>\n",
              "</table>\n",
              "</div>"
            ],
            "text/plain": [
              "        rank discipline  phd\n",
              "0       Prof          B   56\n",
              "1       Prof          A   12\n",
              "2       Prof          A   23\n",
              "3       Prof          A   40\n",
              "4       Prof          B   20\n",
              "5       Prof          A   20\n",
              "6  AssocProf          A   20\n",
              "7       Prof          A   18\n",
              "8       Prof          A   29\n",
              "9       Prof          A   51"
            ]
          },
          "metadata": {
            "tags": []
          },
          "execution_count": 123
        }
      ]
    },
    {
      "cell_type": "code",
      "metadata": {
        "colab": {
          "base_uri": "https://localhost:8080/",
          "height": 106
        },
        "id": "OaXYK1NW7IBi",
        "outputId": "c151fe38-a53f-48ea-e162-e19f7fe14ead"
      },
      "source": [
        "df.iloc[0:2,]"
      ],
      "execution_count": 124,
      "outputs": [
        {
          "output_type": "execute_result",
          "data": {
            "text/html": [
              "<div>\n",
              "<style scoped>\n",
              "    .dataframe tbody tr th:only-of-type {\n",
              "        vertical-align: middle;\n",
              "    }\n",
              "\n",
              "    .dataframe tbody tr th {\n",
              "        vertical-align: top;\n",
              "    }\n",
              "\n",
              "    .dataframe thead th {\n",
              "        text-align: right;\n",
              "    }\n",
              "</style>\n",
              "<table border=\"1\" class=\"dataframe\">\n",
              "  <thead>\n",
              "    <tr style=\"text-align: right;\">\n",
              "      <th></th>\n",
              "      <th>rank</th>\n",
              "      <th>discipline</th>\n",
              "      <th>phd</th>\n",
              "      <th>service</th>\n",
              "      <th>sex</th>\n",
              "      <th>salary</th>\n",
              "    </tr>\n",
              "  </thead>\n",
              "  <tbody>\n",
              "    <tr>\n",
              "      <th>0</th>\n",
              "      <td>Prof</td>\n",
              "      <td>B</td>\n",
              "      <td>56</td>\n",
              "      <td>49</td>\n",
              "      <td>Male</td>\n",
              "      <td>186960</td>\n",
              "    </tr>\n",
              "    <tr>\n",
              "      <th>1</th>\n",
              "      <td>Prof</td>\n",
              "      <td>A</td>\n",
              "      <td>12</td>\n",
              "      <td>6</td>\n",
              "      <td>Male</td>\n",
              "      <td>93000</td>\n",
              "    </tr>\n",
              "  </tbody>\n",
              "</table>\n",
              "</div>"
            ],
            "text/plain": [
              "   rank discipline  phd  service   sex  salary\n",
              "0  Prof          B   56       49  Male  186960\n",
              "1  Prof          A   12        6  Male   93000"
            ]
          },
          "metadata": {
            "tags": []
          },
          "execution_count": 124
        }
      ]
    },
    {
      "cell_type": "code",
      "metadata": {
        "colab": {
          "base_uri": "https://localhost:8080/"
        },
        "id": "0WA4530e7hUr",
        "outputId": "713800ba-5bc1-4e8b-88ba-46ccd4f6dc13"
      },
      "source": [
        "df.iloc[:,4]"
      ],
      "execution_count": 125,
      "outputs": [
        {
          "output_type": "execute_result",
          "data": {
            "text/plain": [
              "0       Male\n",
              "1       Male\n",
              "2       Male\n",
              "3       Male\n",
              "4       Male\n",
              "       ...  \n",
              "73    Female\n",
              "74    Female\n",
              "75    Female\n",
              "76    Female\n",
              "77    Female\n",
              "Name: sex, Length: 78, dtype: object"
            ]
          },
          "metadata": {
            "tags": []
          },
          "execution_count": 125
        }
      ]
    },
    {
      "cell_type": "code",
      "metadata": {
        "colab": {
          "base_uri": "https://localhost:8080/",
          "height": 106
        },
        "id": "19yoB4hv7mmx",
        "outputId": "01974236-062f-4bb8-cd10-2ab0ce5a66ee"
      },
      "source": [
        "df[['phd','salary']].agg(['mean','max'])"
      ],
      "execution_count": 127,
      "outputs": [
        {
          "output_type": "execute_result",
          "data": {
            "text/html": [
              "<div>\n",
              "<style scoped>\n",
              "    .dataframe tbody tr th:only-of-type {\n",
              "        vertical-align: middle;\n",
              "    }\n",
              "\n",
              "    .dataframe tbody tr th {\n",
              "        vertical-align: top;\n",
              "    }\n",
              "\n",
              "    .dataframe thead th {\n",
              "        text-align: right;\n",
              "    }\n",
              "</style>\n",
              "<table border=\"1\" class=\"dataframe\">\n",
              "  <thead>\n",
              "    <tr style=\"text-align: right;\">\n",
              "      <th></th>\n",
              "      <th>phd</th>\n",
              "      <th>salary</th>\n",
              "    </tr>\n",
              "  </thead>\n",
              "  <tbody>\n",
              "    <tr>\n",
              "      <th>mean</th>\n",
              "      <td>19.705128</td>\n",
              "      <td>108023.782051</td>\n",
              "    </tr>\n",
              "    <tr>\n",
              "      <th>max</th>\n",
              "      <td>56.000000</td>\n",
              "      <td>186960.000000</td>\n",
              "    </tr>\n",
              "  </tbody>\n",
              "</table>\n",
              "</div>"
            ],
            "text/plain": [
              "            phd         salary\n",
              "mean  19.705128  108023.782051\n",
              "max   56.000000  186960.000000"
            ]
          },
          "metadata": {
            "tags": []
          },
          "execution_count": 127
        }
      ]
    },
    {
      "cell_type": "code",
      "metadata": {
        "id": "Z7qHN-Rl8q4q"
      },
      "source": [
        ""
      ],
      "execution_count": null,
      "outputs": []
    }
  ]
}